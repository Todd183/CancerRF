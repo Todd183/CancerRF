{
 "cells": [
  {
   "cell_type": "markdown",
   "id": "91b4aeb7-3519-45ae-9371-872089404232",
   "metadata": {},
   "source": [
    "# 1.2 Data pre-processing and wrangling for risk factors data\n",
    "There are two categories for risk factors:\n",
    "\n",
    "1. Social factors <br>\n",
    "    1.1. New Zealand Health Survey (NZHS) data - Ministry of Health <br> \n",
    "    1.2. Education - Stats NZ <br>\n",
    "    1.3. Work hours - Stats NZ <br>\n",
    "    1.4. Income - Stats NZ <br>\n",
    "    1.5. Birth numbers (Children) - Stats NZ <br>\n",
    "2. Environments factors <br>\n",
    "    2.1. DHB map geometry data (for mapping environment factors to DHB regions) - Stats NZ <br> \n",
    "    2.2. Earthquake - GeoNet <br>\n",
    "    2.3. Temperature - Stats NZ <br>\n",
    "    2.4. Air quality - LAWA database <br>\n",
    "    2.5. Ground water quality LAWA database <br>\n",
    "\n",
    "We cleaned all risk factors datasets from different resources and output a clean dataset \"rf.Rdata\" with all risk factors in long data format. <br>\n",
    "Primary key: {DHB, year, sex, category, rf}<br>\n",
    "Common identifier that connects with cancer data: {DHB,year}, except NZHS data {DHB, year, sex} <br>"
   ]
  },
  {
   "cell_type": "markdown",
   "id": "11f5c354-dc39-4a91-a29c-7d0f0ffceb96",
   "metadata": {},
   "source": [
    "\"category\": \n",
    "* NZHS\n",
    "* Work Hours\n",
    "* Education\n",
    "* Income\n",
    "* Birth Number\n",
    "* Earthquake\n",
    "* Air quality\n",
    "* Water quality\n",
    "* Temperature<br>\n",
    "\n",
    "\"rf\": specific risk factors in each category such as \"maximun magnitude of earthquake\"."
   ]
  },
  {
   "cell_type": "code",
   "execution_count": 1,
   "id": "037699a6-3beb-4de4-b8b9-bcd2e60a1595",
   "metadata": {},
   "outputs": [
    {
     "name": "stderr",
     "output_type": "stream",
     "text": [
      "── \u001b[1mAttaching core tidyverse packages\u001b[22m ──────────────────────── tidyverse 2.0.0 ──\n",
      "\u001b[32m✔\u001b[39m \u001b[34mdplyr    \u001b[39m 1.1.3     \u001b[32m✔\u001b[39m \u001b[34mreadr    \u001b[39m 2.1.4\n",
      "\u001b[32m✔\u001b[39m \u001b[34mforcats  \u001b[39m 1.0.0     \u001b[32m✔\u001b[39m \u001b[34mstringr  \u001b[39m 1.5.0\n",
      "\u001b[32m✔\u001b[39m \u001b[34mggplot2  \u001b[39m 3.4.2     \u001b[32m✔\u001b[39m \u001b[34mtibble   \u001b[39m 3.2.1\n",
      "\u001b[32m✔\u001b[39m \u001b[34mlubridate\u001b[39m 1.9.2     \u001b[32m✔\u001b[39m \u001b[34mtidyr    \u001b[39m 1.3.0\n",
      "\u001b[32m✔\u001b[39m \u001b[34mpurrr    \u001b[39m 1.0.2     \n",
      "── \u001b[1mConflicts\u001b[22m ────────────────────────────────────────── tidyverse_conflicts() ──\n",
      "\u001b[31m✖\u001b[39m \u001b[34mdplyr\u001b[39m::\u001b[32mfilter()\u001b[39m masks \u001b[34mstats\u001b[39m::filter()\n",
      "\u001b[31m✖\u001b[39m \u001b[34mdplyr\u001b[39m::\u001b[32mlag()\u001b[39m    masks \u001b[34mstats\u001b[39m::lag()\n",
      "\u001b[36mℹ\u001b[39m Use the conflicted package (\u001b[3m\u001b[34m<http://conflicted.r-lib.org/>\u001b[39m\u001b[23m) to force all conflicts to become errors\n",
      "Linking to GEOS 3.12.0, GDAL 3.7.1, PROJ 9.3.0; sf_use_s2() is TRUE\n",
      "\n"
     ]
    }
   ],
   "source": [
    "#loading library\n",
    "library(tidyverse)\n",
    "library(sf)\n",
    "library(skimr)"
   ]
  },
  {
   "cell_type": "markdown",
   "id": "e9a74310-5b6c-4934-a6bb-5351882cf4e9",
   "metadata": {},
   "source": [
    "## 1. Humanities Datasets"
   ]
  },
  {
   "cell_type": "markdown",
   "id": "ea72ec24-2e57-4d5d-8775-61e267375aa4",
   "metadata": {},
   "source": [
    "### 1.1. New Zealand Health Survey data"
   ]
  },
  {
   "cell_type": "code",
   "execution_count": 2,
   "id": "600431f0-fcd5-4911-8fe1-51f43a1d9d71",
   "metadata": {},
   "outputs": [
    {
     "name": "stderr",
     "output_type": "stream",
     "text": [
      "\u001b[1mRows: \u001b[22m\u001b[34m772978\u001b[39m \u001b[1mColumns: \u001b[22m\u001b[34m14\u001b[39m\n",
      "\u001b[36m──\u001b[39m \u001b[1mColumn specification\u001b[22m \u001b[36m────────────────────────────────────────────────────────\u001b[39m\n",
      "\u001b[1mDelimiter:\u001b[22m \",\"\n",
      "\u001b[31mchr\u001b[39m (9): population, short.description, region, type, year, agegroup, sex, E...\n",
      "\u001b[32mdbl\u001b[39m (5): Prevalence, CL.Lower.Bound, CL.Upper.Bound, estimated.number, sampl...\n",
      "\n",
      "\u001b[36mℹ\u001b[39m Use `spec()` to retrieve the full column specification for this data.\n",
      "\u001b[36mℹ\u001b[39m Specify the column types or set `show_col_types = FALSE` to quiet this message.\n"
     ]
    },
    {
     "data": {
      "text/html": [
       "<table class=\"dataframe\">\n",
       "<caption>A tibble: 3 × 7</caption>\n",
       "<thead>\n",
       "\t<tr><th scope=col>DHB</th><th scope=col>year</th><th scope=col>sex</th><th scope=col>category</th><th scope=col>rf</th><th scope=col>value</th><th scope=col>type</th></tr>\n",
       "\t<tr><th scope=col>&lt;chr&gt;</th><th scope=col>&lt;dbl&gt;</th><th scope=col>&lt;chr&gt;</th><th scope=col>&lt;chr&gt;</th><th scope=col>&lt;chr&gt;</th><th scope=col>&lt;dbl&gt;</th><th scope=col>&lt;chr&gt;</th></tr>\n",
       "</thead>\n",
       "<tbody>\n",
       "\t<tr><td>Auckland</td><td>2011</td><td>AllSex</td><td>NZHS</td><td>Physically active</td><td>46.2</td><td>percentage</td></tr>\n",
       "\t<tr><td>Auckland</td><td>2012</td><td>AllSex</td><td>NZHS</td><td>Physically active</td><td>51.8</td><td>percentage</td></tr>\n",
       "\t<tr><td>Auckland</td><td>2013</td><td>AllSex</td><td>NZHS</td><td>Physically active</td><td>45.4</td><td>percentage</td></tr>\n",
       "</tbody>\n",
       "</table>\n"
      ],
      "text/latex": [
       "A tibble: 3 × 7\n",
       "\\begin{tabular}{lllllll}\n",
       " DHB & year & sex & category & rf & value & type\\\\\n",
       " <chr> & <dbl> & <chr> & <chr> & <chr> & <dbl> & <chr>\\\\\n",
       "\\hline\n",
       "\t Auckland & 2011 & AllSex & NZHS & Physically active & 46.2 & percentage\\\\\n",
       "\t Auckland & 2012 & AllSex & NZHS & Physically active & 51.8 & percentage\\\\\n",
       "\t Auckland & 2013 & AllSex & NZHS & Physically active & 45.4 & percentage\\\\\n",
       "\\end{tabular}\n"
      ],
      "text/markdown": [
       "\n",
       "A tibble: 3 × 7\n",
       "\n",
       "| DHB &lt;chr&gt; | year &lt;dbl&gt; | sex &lt;chr&gt; | category &lt;chr&gt; | rf &lt;chr&gt; | value &lt;dbl&gt; | type &lt;chr&gt; |\n",
       "|---|---|---|---|---|---|---|\n",
       "| Auckland | 2011 | AllSex | NZHS | Physically active | 46.2 | percentage |\n",
       "| Auckland | 2012 | AllSex | NZHS | Physically active | 51.8 | percentage |\n",
       "| Auckland | 2013 | AllSex | NZHS | Physically active | 45.4 | percentage |\n",
       "\n"
      ],
      "text/plain": [
       "  DHB      year sex    category rf                value type      \n",
       "1 Auckland 2011 AllSex NZHS     Physically active 46.2  percentage\n",
       "2 Auckland 2012 AllSex NZHS     Physically active 51.8  percentage\n",
       "3 Auckland 2013 AllSex NZHS     Physically active 45.4  percentage"
      ]
     },
     "metadata": {},
     "output_type": "display_data"
    }
   ],
   "source": [
    "#### New Zealand Health Survey data ####\n",
    "nzhs <- read_csv('data/raw/nz-health-survey-2017-20-regional-update-dhb-prevalences.csv')\n",
    "nzhs %>% \n",
    "  filter(population == \"adults\") %>% #select adults population group for analysis\n",
    "  filter(!grepl(\"-\",year) & type == \"STD\") %>% #filter age-standardized data with type == \"STD\", remove combined year data.\n",
    "  mutate(DHB = case_when(region == 'Tairāwhiti' ~ \"Tairawhiti\", #modify DHB names in DHB_mapto match cancer\n",
    "                         region == 'Waitematā' ~ 'Waitemata',\n",
    "                         region == \"New Zealand\" ~ 'All New Zealand',\n",
    "                         TRUE ~ region),\n",
    "         year = as.numeric(str_extract(year,\"^[0-9]*\")), #just keep the year information\n",
    "         rf = short.description,\n",
    "         sex = case_when(sex == 'All' ~ \"AllSex\",\n",
    "                         TRUE ~ sex),\n",
    "         value = Prevalence,\n",
    "         type = \"percentage\"\n",
    "  ) %>% \n",
    "  select(DHB,year,sex,rf,value,type) %>%\n",
    "  mutate(category = \"NZHS\", .before = 4) ->\n",
    "  nzhs_long # Note there are some missing values after changing to wide data format\n",
    "\n",
    "\n",
    "# write_csv(nzhs_wide,\"data/clean/nzhs_wide.csv\") #save clean nzhs data for correlation analaysis\n",
    "\n",
    "nzhs_long %>% head(3)\n"
   ]
  },
  {
   "cell_type": "markdown",
   "id": "be4b3520-5334-4a5b-8f48-fee91367dfd0",
   "metadata": {},
   "source": [
    "### 1.2. Education data"
   ]
  },
  {
   "cell_type": "code",
   "execution_count": 3,
   "id": "2b0468c0-b82a-4797-9028-b5706af6a96f",
   "metadata": {},
   "outputs": [
    {
     "data": {
      "text/html": [
       "<table class=\"dataframe\">\n",
       "<caption>A grouped_df: 3 × 7</caption>\n",
       "<thead>\n",
       "\t<tr><th scope=col>DHB</th><th scope=col>year</th><th scope=col>sex</th><th scope=col>category</th><th scope=col>rf</th><th scope=col>value</th><th scope=col>type</th></tr>\n",
       "\t<tr><th scope=col>&lt;chr&gt;</th><th scope=col>&lt;int&gt;</th><th scope=col>&lt;chr&gt;</th><th scope=col>&lt;chr&gt;</th><th scope=col>&lt;chr&gt;</th><th scope=col>&lt;dbl&gt;</th><th scope=col>&lt;chr&gt;</th></tr>\n",
       "</thead>\n",
       "<tbody>\n",
       "\t<tr><td>Northland</td><td>2013</td><td>AllSex</td><td>Education</td><td>No qualification</td><td>27.40435</td><td>percentage</td></tr>\n",
       "\t<tr><td>Northland</td><td>2013</td><td>AllSex</td><td>Education</td><td>level 1         </td><td>16.61563</td><td>percentage</td></tr>\n",
       "\t<tr><td>Northland</td><td>2013</td><td>AllSex</td><td>Education</td><td>level 2         </td><td>11.19303</td><td>percentage</td></tr>\n",
       "</tbody>\n",
       "</table>\n"
      ],
      "text/latex": [
       "A grouped\\_df: 3 × 7\n",
       "\\begin{tabular}{lllllll}\n",
       " DHB & year & sex & category & rf & value & type\\\\\n",
       " <chr> & <int> & <chr> & <chr> & <chr> & <dbl> & <chr>\\\\\n",
       "\\hline\n",
       "\t Northland & 2013 & AllSex & Education & No qualification & 27.40435 & percentage\\\\\n",
       "\t Northland & 2013 & AllSex & Education & level 1          & 16.61563 & percentage\\\\\n",
       "\t Northland & 2013 & AllSex & Education & level 2          & 11.19303 & percentage\\\\\n",
       "\\end{tabular}\n"
      ],
      "text/markdown": [
       "\n",
       "A grouped_df: 3 × 7\n",
       "\n",
       "| DHB &lt;chr&gt; | year &lt;int&gt; | sex &lt;chr&gt; | category &lt;chr&gt; | rf &lt;chr&gt; | value &lt;dbl&gt; | type &lt;chr&gt; |\n",
       "|---|---|---|---|---|---|---|\n",
       "| Northland | 2013 | AllSex | Education | No qualification | 27.40435 | percentage |\n",
       "| Northland | 2013 | AllSex | Education | level 1          | 16.61563 | percentage |\n",
       "| Northland | 2013 | AllSex | Education | level 2          | 11.19303 | percentage |\n",
       "\n"
      ],
      "text/plain": [
       "  DHB       year sex    category  rf               value    type      \n",
       "1 Northland 2013 AllSex Education No qualification 27.40435 percentage\n",
       "2 Northland 2013 AllSex Education level 1          16.61563 percentage\n",
       "3 Northland 2013 AllSex Education level 2          11.19303 percentage"
      ]
     },
     "metadata": {},
     "output_type": "display_data"
    }
   ],
   "source": [
    "#### Education data ####\n",
    "\n",
    "education <- read.csv('data/raw/Highest_qualification_long_updated_16-7-20.csv')\n",
    "\n",
    "#clean the Education data and map to qualification levels\n",
    "qualifications_to_level <- c(\n",
    "  \"No qualification\" = 'No qualification',\n",
    "  \"Level 1 certificate\" = 'level 1',\n",
    "  \"Level 2 certificate\" = 'level 2',\n",
    "  \"Level 3 certificate\" = 'level 3',\n",
    "  \"Level 4 certificate\" = 'level 4',\n",
    "  \"Level 5 diploma\" = 'level 5',\n",
    "  \"Level 6 diploma\" = 'level 6',\n",
    "  \"Bachelor degree and Level 7 qualification\" = 'level 7',\n",
    "  \"Post-graduate and honours degrees\" = 'level 8',\n",
    "  \"Masters degree\" = 'level 9',\n",
    "  \"Doctorate degree\" = 'level 10'\n",
    ")\n",
    "\n",
    "#create new variables with the \"≥ levels\" format\n",
    "qualifications_map <- c(\n",
    "  'No qualification' = \"≥ level 1\",\n",
    "  'level 1' = \"≥ level 2\",\n",
    "  'level 2' = \"≥ level 3\",\n",
    "  'level 3' = \"≥ level 4\",\n",
    "  'level 4' = \"≥ level 5\",\n",
    "  'level 5' = \"≥ level 6\",\n",
    "  'level 6' = \"≥ level 7\",\n",
    "  'level 7' = \"≥ level 8\",\n",
    "  'level 8' = \"≥ level 9\",\n",
    "  'level 9' = \"≥ level 10\"\n",
    ")\n",
    "\n",
    "\n",
    "education %>% \n",
    "  mutate(Area_description = str_replace( Area_description,'Capital and Coast',\"Capital & Coast\")) %>% #unify DHB names\n",
    "  filter(Year >= 2011 & Year <= 2020 & #screen years match the cancer data\n",
    "           grepl(\"DHB\",Area_code_and_description) & #filter rows with DHB information\n",
    "           !Highest_qualification_descriptor %in% c('Overseas secondary school qualification', \"Not elsewhere included\",\"Total\")) %>% #keep only NZ education qualication data\n",
    "  rename( DHB = Area_description, year = Year) %>%\n",
    "  mutate(rf =  qualifications_to_level[Highest_qualification_descriptor], Count = as.numeric(Count) ) %>%\n",
    "  group_by(DHB,year) %>%\n",
    "  mutate(value = Count / Count[Highest_qualification_descriptor == \"Total stated\"] * 100,\n",
    "         type = \"percentage\") %>% #calculate the percentage of each qualification level\n",
    "  filter(Highest_qualification_descriptor != 'Total stated') %>% \n",
    "  select(DHB,year,rf,value,type) %>%\n",
    "  mutate(sex = \"AllSex\", category = 'Education' , .before =3)-> edu1\n",
    "\n",
    "edu1 %>%  \n",
    "  group_by(DHB,year) %>%\n",
    "  mutate(value = 100 - cumsum(value)) %>% #calculate the cumulative percentage of each \"≥ level\" variable\n",
    "  filter(rf != 'level 10') %>% #remove the last variable which has the 100% percentage \n",
    "  mutate(rf = qualifications_map[rf]) -> edu2\n",
    "\n",
    "edu <- rbind(edu1,edu2) \n",
    "\n",
    "edu %>% head(3)"
   ]
  },
  {
   "cell_type": "markdown",
   "id": "8912dee0-1b54-4f25-9e2b-e878f30c8d5b",
   "metadata": {},
   "source": [
    "### 1.3. Working hours data"
   ]
  },
  {
   "cell_type": "code",
   "execution_count": 4,
   "id": "9c0481e4-c5a1-45f5-a038-b4e37f29f308",
   "metadata": {},
   "outputs": [
    {
     "data": {
      "text/html": [
       "<table class=\"dataframe\">\n",
       "<caption>A grouped_df: 3 × 7</caption>\n",
       "<thead>\n",
       "\t<tr><th scope=col>DHB</th><th scope=col>year</th><th scope=col>sex</th><th scope=col>category</th><th scope=col>rf</th><th scope=col>value</th><th scope=col>type</th></tr>\n",
       "\t<tr><th scope=col>&lt;chr&gt;</th><th scope=col>&lt;int&gt;</th><th scope=col>&lt;chr&gt;</th><th scope=col>&lt;chr&gt;</th><th scope=col>&lt;chr&gt;</th><th scope=col>&lt;dbl&gt;</th><th scope=col>&lt;chr&gt;</th></tr>\n",
       "</thead>\n",
       "<tbody>\n",
       "\t<tr><td>Northland</td><td>2013</td><td>AllSex</td><td>Work Hours</td><td>1-9 hours worked  </td><td> 5.855106</td><td>percentage</td></tr>\n",
       "\t<tr><td>Northland</td><td>2013</td><td>AllSex</td><td>Work Hours</td><td>10-19 hours worked</td><td> 8.145103</td><td>percentage</td></tr>\n",
       "\t<tr><td>Northland</td><td>2013</td><td>AllSex</td><td>Work Hours</td><td>20-29 hours worked</td><td>10.830644</td><td>percentage</td></tr>\n",
       "</tbody>\n",
       "</table>\n"
      ],
      "text/latex": [
       "A grouped\\_df: 3 × 7\n",
       "\\begin{tabular}{lllllll}\n",
       " DHB & year & sex & category & rf & value & type\\\\\n",
       " <chr> & <int> & <chr> & <chr> & <chr> & <dbl> & <chr>\\\\\n",
       "\\hline\n",
       "\t Northland & 2013 & AllSex & Work Hours & 1-9 hours worked   &  5.855106 & percentage\\\\\n",
       "\t Northland & 2013 & AllSex & Work Hours & 10-19 hours worked &  8.145103 & percentage\\\\\n",
       "\t Northland & 2013 & AllSex & Work Hours & 20-29 hours worked & 10.830644 & percentage\\\\\n",
       "\\end{tabular}\n"
      ],
      "text/markdown": [
       "\n",
       "A grouped_df: 3 × 7\n",
       "\n",
       "| DHB &lt;chr&gt; | year &lt;int&gt; | sex &lt;chr&gt; | category &lt;chr&gt; | rf &lt;chr&gt; | value &lt;dbl&gt; | type &lt;chr&gt; |\n",
       "|---|---|---|---|---|---|---|\n",
       "| Northland | 2013 | AllSex | Work Hours | 1-9 hours worked   |  5.855106 | percentage |\n",
       "| Northland | 2013 | AllSex | Work Hours | 10-19 hours worked |  8.145103 | percentage |\n",
       "| Northland | 2013 | AllSex | Work Hours | 20-29 hours worked | 10.830644 | percentage |\n",
       "\n"
      ],
      "text/plain": [
       "  DHB       year sex    category   rf                 value     type      \n",
       "1 Northland 2013 AllSex Work Hours 1-9 hours worked    5.855106 percentage\n",
       "2 Northland 2013 AllSex Work Hours 10-19 hours worked  8.145103 percentage\n",
       "3 Northland 2013 AllSex Work Hours 20-29 hours worked 10.830644 percentage"
      ]
     },
     "metadata": {},
     "output_type": "display_data"
    }
   ],
   "source": [
    "#### Working hours ####\n",
    "\n",
    "work_hours <- read.csv('data/raw/total_hours_worked_long_updated_16-7-20.csv')\n",
    "\n",
    "#create new variables with the \"≥ hours\" format\n",
    "work_hours_map <- c(\n",
    "  \"1-9 hours worked\" = \"≥ 10 hours\"  ,\n",
    "  \"10-19 hours worked\" = \"≥ 20 hours\",\n",
    "  \"20-29 hours worked\" = \"≥ 30 hours\",\n",
    "  \"30-39 hours worked\" = \"≥ 40 hours\",\n",
    "  \"40-49 hours worked\" = \"≥ 50 hours\",\n",
    "  \"50-59 hours worked\" = \"≥ 60 hours\"\n",
    ")\n",
    "\n",
    "work_hours %>% \n",
    "  mutate(Area_description = str_replace( Area_description,'Capital and Coast',\"Capital & Coast\")) %>% #unify DHB names\n",
    "  filter(Year >= 2011 & Year <= 2020 &  #screen years match the cancer data\n",
    "           grepl(\"DHB\",Area_code_and_description) & #filter rows with DHB information\n",
    "           !Hours_worked_week_descriptor %in% c( \"Not elsewhere included\",\"Total\")) %>%\n",
    "  rename( DHB = Area_description, year = Year) %>%\n",
    "  mutate(Count = as.numeric(Count) ) %>%\n",
    "  group_by(DHB,year) %>%\n",
    "  mutate(value = Count / Count[Hours_worked_week_descriptor == \"Total stated\"] * 100,  #calculate the percentage of each work hours length\n",
    "         rf = Hours_worked_week_descriptor,\n",
    "         type = \"percentage\") %>%\n",
    "  filter(Hours_worked_week_descriptor != 'Total stated') %>% \n",
    "  select(DHB,year,rf,value,type) %>%\n",
    "  mutate(sex = \"AllSex\", category = 'Work Hours' , .before =3) -> whs1\n",
    "\n",
    "whs1 %>%  \n",
    "  group_by(DHB,year) %>%\n",
    "  mutate(value = 100 - cumsum(value)) %>% #calculate the cumulative percentage of each \"≥ hours\" variable\n",
    "  filter(rf != '60 hours or more worked') %>% #remove the last variable which has the 100% percentage \n",
    "  mutate(rf = work_hours_map[rf]) -> whs2\n",
    "\n",
    "whs <- rbind(whs1,whs2) \n",
    "\n",
    "whs %>% head(3)"
   ]
  },
  {
   "cell_type": "markdown",
   "id": "4f31f300-a242-4e54-b365-f1ea43b18fc3",
   "metadata": {},
   "source": [
    "### 1.4. Income data "
   ]
  },
  {
   "cell_type": "code",
   "execution_count": 5,
   "id": "f75667b0-0aae-437c-a2dc-9f025b4bce3a",
   "metadata": {},
   "outputs": [
    {
     "data": {
      "text/html": [
       "<table class=\"dataframe\">\n",
       "<caption>A grouped_df: 3 × 7</caption>\n",
       "<thead>\n",
       "\t<tr><th scope=col>DHB</th><th scope=col>year</th><th scope=col>sex</th><th scope=col>category</th><th scope=col>rf</th><th scope=col>value</th><th scope=col>type</th></tr>\n",
       "\t<tr><th scope=col>&lt;chr&gt;</th><th scope=col>&lt;int&gt;</th><th scope=col>&lt;chr&gt;</th><th scope=col>&lt;chr&gt;</th><th scope=col>&lt;chr&gt;</th><th scope=col>&lt;dbl&gt;</th><th scope=col>&lt;chr&gt;</th></tr>\n",
       "</thead>\n",
       "<tbody>\n",
       "\t<tr><td>Northland</td><td>2013</td><td>AllSex</td><td>Income</td><td>$5,000 or less </td><td>13.532017</td><td>percentage</td></tr>\n",
       "\t<tr><td>Northland</td><td>2013</td><td>AllSex</td><td>Income</td><td>$5,001-$10,000 </td><td> 5.814834</td><td>percentage</td></tr>\n",
       "\t<tr><td>Northland</td><td>2013</td><td>AllSex</td><td>Income</td><td>$10,001-$20,000</td><td>24.238187</td><td>percentage</td></tr>\n",
       "</tbody>\n",
       "</table>\n"
      ],
      "text/latex": [
       "A grouped\\_df: 3 × 7\n",
       "\\begin{tabular}{lllllll}\n",
       " DHB & year & sex & category & rf & value & type\\\\\n",
       " <chr> & <int> & <chr> & <chr> & <chr> & <dbl> & <chr>\\\\\n",
       "\\hline\n",
       "\t Northland & 2013 & AllSex & Income & \\$5,000 or less  & 13.532017 & percentage\\\\\n",
       "\t Northland & 2013 & AllSex & Income & \\$5,001-\\$10,000  &  5.814834 & percentage\\\\\n",
       "\t Northland & 2013 & AllSex & Income & \\$10,001-\\$20,000 & 24.238187 & percentage\\\\\n",
       "\\end{tabular}\n"
      ],
      "text/markdown": [
       "\n",
       "A grouped_df: 3 × 7\n",
       "\n",
       "| DHB &lt;chr&gt; | year &lt;int&gt; | sex &lt;chr&gt; | category &lt;chr&gt; | rf &lt;chr&gt; | value &lt;dbl&gt; | type &lt;chr&gt; |\n",
       "|---|---|---|---|---|---|---|\n",
       "| Northland | 2013 | AllSex | Income | $5,000 or less  | 13.532017 | percentage |\n",
       "| Northland | 2013 | AllSex | Income | $5,001-$10,000  |  5.814834 | percentage |\n",
       "| Northland | 2013 | AllSex | Income | $10,001-$20,000 | 24.238187 | percentage |\n",
       "\n"
      ],
      "text/plain": [
       "  DHB       year sex    category rf              value     type      \n",
       "1 Northland 2013 AllSex Income   $5,000 or less  13.532017 percentage\n",
       "2 Northland 2013 AllSex Income   $5,001-$10,000   5.814834 percentage\n",
       "3 Northland 2013 AllSex Income   $10,001-$20,000 24.238187 percentage"
      ]
     },
     "metadata": {},
     "output_type": "display_data"
    }
   ],
   "source": [
    "#### Income data  ####\n",
    "\n",
    "income_cesus <- read.csv('data/raw/Total_personal_income_long_updated_16-7-20.csv')\n",
    "\n",
    "\n",
    "#create new variables with the \"≥ $\" format\n",
    "income_map <- c(\n",
    "  \"$5,000 or less\" = \"> $5,000\",\n",
    "  \"$5,001-$10,000\" = \"> $10,000\",\n",
    "  \"$10,001-$20,000\" = \"> $20,000\",\n",
    "  \"$20,001-$30,000\" = \"> $30,000\",\n",
    "  \"$30,001-$50,000\" = \"> $50,000\",\n",
    "  \"$50,001-$70,000\" = \"> $70,000\"\n",
    ")\n",
    "\n",
    "income_cesus %>% \n",
    "  mutate(Area_description = str_replace( Area_description,'Capital and Coast',\"Capital & Coast\")) %>% #unify DHB names\n",
    "  filter(Year >= 2011 & Year <= 2020 &  #screen years match the cancer data\n",
    "           grepl(\"DHB\",Area_code_and_description) & #filter rows with DHB information\n",
    "           !Grouped_personal_income_descriptor %in% c( \"Not stated\",\"Total\",\"Median, ($)\")) %>%\n",
    "  rename( DHB = Area_description, year = Year) %>%\n",
    "  mutate(Count = as.numeric(Count) ) %>%\n",
    "  group_by(DHB,year) %>%\n",
    "  mutate(value = Count / Count[Grouped_personal_income_descriptor == \"Total stated\"] * 100,\n",
    "         rf = Grouped_personal_income_descriptor,\n",
    "         type = \"percentage\") %>% #calculate the percentage of each income range\n",
    "  filter(Grouped_personal_income_descriptor != 'Total stated') %>% \n",
    "  select(DHB,year,rf,value,type)  %>%\n",
    "  mutate(sex = \"AllSex\", category = 'Income' , .before =3)-> income1\n",
    "\n",
    "\n",
    "income1 %>%  \n",
    "  group_by(DHB,year) %>%\n",
    "  mutate(value = 100 - cumsum(value)) %>% #calculate the cumulative percentage of each \"≥ $\" variable\n",
    "  filter(rf != '$70,001 or more') %>% #remove the last variable which has the 100% percentage \n",
    "  mutate(rf = income_map[rf]) -> income2\n",
    "\n",
    "\n",
    "income <- rbind(income1,income2) \n",
    "\n",
    "income %>% head(3)"
   ]
  },
  {
   "cell_type": "markdown",
   "id": "0149115b-1eab-4966-927a-cfca2c56cb2a",
   "metadata": {},
   "source": [
    "### 1.5. Birth numbers"
   ]
  },
  {
   "cell_type": "code",
   "execution_count": 6,
   "id": "4d5c0ef1-add6-4939-8c47-ba20e27d5ce7",
   "metadata": {},
   "outputs": [
    {
     "data": {
      "text/html": [
       "<table class=\"dataframe\">\n",
       "<caption>A grouped_df: 3 × 7</caption>\n",
       "<thead>\n",
       "\t<tr><th scope=col>DHB</th><th scope=col>year</th><th scope=col>sex</th><th scope=col>category</th><th scope=col>rf</th><th scope=col>value</th><th scope=col>type</th></tr>\n",
       "\t<tr><th scope=col>&lt;chr&gt;</th><th scope=col>&lt;int&gt;</th><th scope=col>&lt;chr&gt;</th><th scope=col>&lt;chr&gt;</th><th scope=col>&lt;chr&gt;</th><th scope=col>&lt;dbl&gt;</th><th scope=col>&lt;chr&gt;</th></tr>\n",
       "</thead>\n",
       "<tbody>\n",
       "\t<tr><td>Northland</td><td>2013</td><td>AllSex</td><td>Birth Number</td><td>No children </td><td>22.12185</td><td>percentage</td></tr>\n",
       "\t<tr><td>Northland</td><td>2013</td><td>AllSex</td><td>Birth Number</td><td>One child   </td><td>11.16309</td><td>percentage</td></tr>\n",
       "\t<tr><td>Northland</td><td>2013</td><td>AllSex</td><td>Birth Number</td><td>Two children</td><td>26.58493</td><td>percentage</td></tr>\n",
       "</tbody>\n",
       "</table>\n"
      ],
      "text/latex": [
       "A grouped\\_df: 3 × 7\n",
       "\\begin{tabular}{lllllll}\n",
       " DHB & year & sex & category & rf & value & type\\\\\n",
       " <chr> & <int> & <chr> & <chr> & <chr> & <dbl> & <chr>\\\\\n",
       "\\hline\n",
       "\t Northland & 2013 & AllSex & Birth Number & No children  & 22.12185 & percentage\\\\\n",
       "\t Northland & 2013 & AllSex & Birth Number & One child    & 11.16309 & percentage\\\\\n",
       "\t Northland & 2013 & AllSex & Birth Number & Two children & 26.58493 & percentage\\\\\n",
       "\\end{tabular}\n"
      ],
      "text/markdown": [
       "\n",
       "A grouped_df: 3 × 7\n",
       "\n",
       "| DHB &lt;chr&gt; | year &lt;int&gt; | sex &lt;chr&gt; | category &lt;chr&gt; | rf &lt;chr&gt; | value &lt;dbl&gt; | type &lt;chr&gt; |\n",
       "|---|---|---|---|---|---|---|\n",
       "| Northland | 2013 | AllSex | Birth Number | No children  | 22.12185 | percentage |\n",
       "| Northland | 2013 | AllSex | Birth Number | One child    | 11.16309 | percentage |\n",
       "| Northland | 2013 | AllSex | Birth Number | Two children | 26.58493 | percentage |\n",
       "\n"
      ],
      "text/plain": [
       "  DHB       year sex    category     rf           value    type      \n",
       "1 Northland 2013 AllSex Birth Number No children  22.12185 percentage\n",
       "2 Northland 2013 AllSex Birth Number One child    11.16309 percentage\n",
       "3 Northland 2013 AllSex Birth Number Two children 26.58493 percentage"
      ]
     },
     "metadata": {},
     "output_type": "display_data"
    }
   ],
   "source": [
    "#### Birth numbers ####\n",
    "\n",
    "children_census <- read.csv('data/raw/Number_of_children_born_long_updated_16-7-20.csv')\n",
    "\n",
    "#create new variables with the \"> children\" format\n",
    "children_map <- c(\n",
    "  \"No children\" = \"> 0 children\",\n",
    "  \"One child\" = \"> 1 children\",\n",
    "  \"Two children\" = \"> 2 children\",\n",
    "  \"Three children\" = \"> 3 children\",\n",
    "  \"Four children\" = \"> 4 children\",\n",
    "  \"Five children\" = \"> 5 children\"\n",
    ")\n",
    "\n",
    "\n",
    "children_census %>% \n",
    "  mutate(Area_description = str_replace( Area_description,'Capital and Coast',\"Capital & Coast\")) %>% #unify DHB names\n",
    "  filter(Year >= 2011 & Year <= 2020 & #screen years match the cancer data\n",
    "           grepl(\"DHB\",Area_code_and_description) & #filter rows with DHB information\n",
    "           !Number_children_born_descriptor %in% c(\"Total\",\"Not elsewhere included\",\"Object to answering\")) %>%\n",
    "  rename( DHB = Area_description, year = Year) %>%\n",
    "  mutate(Count = as.numeric(Count) ) %>%\n",
    "  group_by(DHB,year) %>%\n",
    "  mutate(value = Count / Count[Number_children_born_descriptor == \"Total stated\"] * 100,\n",
    "         rf = Number_children_born_descriptor,\n",
    "         type = \"percentage\") %>%  #calculate the percentage \n",
    "  filter(Number_children_born_descriptor != 'Total stated') %>% \n",
    "  select(DHB,year,rf,value,type) %>%\n",
    "  mutate(sex = \"AllSex\", category = 'Birth Number' , .before =3) -> children1\n",
    "\n",
    "\n",
    "children1 %>%  \n",
    "  group_by(DHB,year) %>%\n",
    "  mutate(value = 100 - cumsum(value)) %>% #calculate the cumulative percentage of each \"> children\" variable\n",
    "  filter(rf != 'Six or more children') %>%  #remove the last variable which has the 100% percentage \n",
    "  mutate(rf = children_map[rf]) -> children2\n",
    "\n",
    "children <- rbind(children1,children2) \n",
    "\n",
    "children %>% head(3)"
   ]
  },
  {
   "cell_type": "markdown",
   "id": "d8c1d7c5-9ea7-4423-a0a1-d384f5fec962",
   "metadata": {},
   "source": [
    "## 2. Environment Data"
   ]
  },
  {
   "cell_type": "markdown",
   "id": "189d4b02-b93b-4b21-a242-ef8395248304",
   "metadata": {},
   "source": [
    "Environment data was mapped to DHB using coordinates data and DHB_map geometry map data"
   ]
  },
  {
   "cell_type": "markdown",
   "id": "7414f336-6091-4883-9822-085491044cf9",
   "metadata": {},
   "source": [
    "### 2.1 DHB geomtery map data"
   ]
  },
  {
   "cell_type": "code",
   "execution_count": 7,
   "id": "3fa401e7-1a94-433e-a748-6177c309b5cd",
   "metadata": {},
   "outputs": [],
   "source": [
    "DHB_map <- st_read(\"data/raw/NZ_District_Health_Board_boundaries_-_generalised.kml\", quiet=TRUE)\n",
    "DHB_map %>% \n",
    "  mutate(DHB = case_when(DHB_name == \"Capital and Coast\" ~ \"Capital & Coast\", #modify DHB names in DHB_mapto match cancer\n",
    "                         TRUE ~ DHB_name)) %>%\n",
    "  select(DHB,geometry) -> \n",
    "  DHB_map\n"
   ]
  },
  {
   "cell_type": "markdown",
   "id": "80eea1db-2b1f-4f9f-ab01-b9035ce029a3",
   "metadata": {},
   "source": [
    "### 2.2. Earthquake data"
   ]
  },
  {
   "cell_type": "code",
   "execution_count": 8,
   "id": "5ee68b42-8387-4de8-8180-4c0e3e9a27c3",
   "metadata": {},
   "outputs": [
    {
     "name": "stderr",
     "output_type": "stream",
     "text": [
      "\u001b[1mRows: \u001b[22m\u001b[34m380390\u001b[39m \u001b[1mColumns: \u001b[22m\u001b[34m21\u001b[39m\n",
      "\u001b[36m──\u001b[39m \u001b[1mColumn specification\u001b[22m \u001b[36m────────────────────────────────────────────────────────\u001b[39m\n",
      "\u001b[1mDelimiter:\u001b[22m \",\"\n",
      "\u001b[31mchr\u001b[39m   (8): publicid, eventtype, magnitudetype, depthtype, evaluationmethod, ...\n",
      "\u001b[32mdbl\u001b[39m  (11): longitude, latitude, magnitude, depth, usedphasecount, usedstatio...\n",
      "\u001b[34mdttm\u001b[39m  (2): origintime, modificationtime\n",
      "\n",
      "\u001b[36mℹ\u001b[39m Use `spec()` to retrieve the full column specification for this data.\n",
      "\u001b[36mℹ\u001b[39m Specify the column types or set `show_col_types = FALSE` to quiet this message.\n",
      "\u001b[1m\u001b[22m`summarise()` has grouped output by 'year'. You can override using the\n",
      "`.groups` argument.\n"
     ]
    },
    {
     "data": {
      "text/html": [
       "<table class=\"dataframe\">\n",
       "<caption>A grouped_df: 3 × 7</caption>\n",
       "<thead>\n",
       "\t<tr><th scope=col>DHB</th><th scope=col>year</th><th scope=col>sex</th><th scope=col>category</th><th scope=col>rf</th><th scope=col>value</th><th scope=col>type</th></tr>\n",
       "\t<tr><th scope=col>&lt;chr&gt;</th><th scope=col>&lt;chr&gt;</th><th scope=col>&lt;chr&gt;</th><th scope=col>&lt;chr&gt;</th><th scope=col>&lt;chr&gt;</th><th scope=col>&lt;dbl&gt;</th><th scope=col>&lt;chr&gt;</th></tr>\n",
       "</thead>\n",
       "<tbody>\n",
       "\t<tr><td>Bay of Plenty  </td><td>2011</td><td>AllSex</td><td>Earthquake</td><td>magnitude_max</td><td>4.621</td><td>value</td></tr>\n",
       "\t<tr><td>Canterbury     </td><td>2011</td><td>AllSex</td><td>Earthquake</td><td>magnitude_max</td><td>6.200</td><td>value</td></tr>\n",
       "\t<tr><td>Capital &amp; Coast</td><td>2011</td><td>AllSex</td><td>Earthquake</td><td>magnitude_max</td><td>3.683</td><td>value</td></tr>\n",
       "</tbody>\n",
       "</table>\n"
      ],
      "text/latex": [
       "A grouped\\_df: 3 × 7\n",
       "\\begin{tabular}{lllllll}\n",
       " DHB & year & sex & category & rf & value & type\\\\\n",
       " <chr> & <chr> & <chr> & <chr> & <chr> & <dbl> & <chr>\\\\\n",
       "\\hline\n",
       "\t Bay of Plenty   & 2011 & AllSex & Earthquake & magnitude\\_max & 4.621 & value\\\\\n",
       "\t Canterbury      & 2011 & AllSex & Earthquake & magnitude\\_max & 6.200 & value\\\\\n",
       "\t Capital \\& Coast & 2011 & AllSex & Earthquake & magnitude\\_max & 3.683 & value\\\\\n",
       "\\end{tabular}\n"
      ],
      "text/markdown": [
       "\n",
       "A grouped_df: 3 × 7\n",
       "\n",
       "| DHB &lt;chr&gt; | year &lt;chr&gt; | sex &lt;chr&gt; | category &lt;chr&gt; | rf &lt;chr&gt; | value &lt;dbl&gt; | type &lt;chr&gt; |\n",
       "|---|---|---|---|---|---|---|\n",
       "| Bay of Plenty   | 2011 | AllSex | Earthquake | magnitude_max | 4.621 | value |\n",
       "| Canterbury      | 2011 | AllSex | Earthquake | magnitude_max | 6.200 | value |\n",
       "| Capital &amp; Coast | 2011 | AllSex | Earthquake | magnitude_max | 3.683 | value |\n",
       "\n"
      ],
      "text/plain": [
       "  DHB             year sex    category   rf            value type \n",
       "1 Bay of Plenty   2011 AllSex Earthquake magnitude_max 4.621 value\n",
       "2 Canterbury      2011 AllSex Earthquake magnitude_max 6.200 value\n",
       "3 Capital & Coast 2011 AllSex Earthquake magnitude_max 3.683 value"
      ]
     },
     "metadata": {},
     "output_type": "display_data"
    }
   ],
   "source": [
    "### Earthquake data ####\n",
    "\n",
    "earthquake_2007_to_2023 <- read_csv('data/raw/earthquake2007-2023.csv') #load earthquake data\n",
    "\n",
    "earthquake_2007_to_2023 %>% \n",
    "  filter(eventtype == 'earthquake') %>%\n",
    "  filter(origintime > as.Date(\"2011-01-01\") &  origintime < as.Date(\"2020-12-31\")) %>% #filter year matching cancer data\n",
    "  mutate(year = format(origintime, \"%Y\"))%>% #extrat year information \n",
    "  select(year,longitude,latitude,magnitude,depth) %>% \n",
    "  st_as_sf(.,coords = c(\"longitude\", \"latitude\"), crs = 4326) %>% #transform into sf object for coordinates mapping\n",
    "  st_join(.,DHB_map) %>% # coordinates mapping\n",
    "  filter(!is.na(DHB))-> #remove coordinates that failed to map to DHB region\n",
    "  earthquake_map\n",
    "\n",
    "earthquake_map %>%\n",
    "  as.data.frame() %>%\n",
    "  select(-geometry) %>%\n",
    "  group_by(year,DHB) %>% #summarize based on the year and DHB group\n",
    "  summarise(magnitude_max =  max(magnitude), magnitude_mean = mean(magnitude), \n",
    "            depth_max =  max(depth), depth_mean = mean(depth), \n",
    "            counts = n()) %>%\n",
    "  pivot_wider(names_from = DHB, names_sep = \"-\" , values_from = c(3:7), values_fill = 0) %>% #some DHB does not have earthquake, change to generate those rows with 0\n",
    "  pivot_longer(names_to = c('rf','DHB'), names_sep = '-', values_to = \"value\", cols = -1) %>% #change back to wide, but all values are in single column\n",
    "  select(DHB,year,rf,value) %>%\n",
    "  mutate(sex = \"AllSex\", category = 'Earthquake' , .before =3) %>%\n",
    "  mutate(type = \"value\")-> #change values back to their original category\n",
    "  earthquake\n",
    "\n",
    "earthquake %>% head(3)"
   ]
  },
  {
   "cell_type": "markdown",
   "id": "87bae3db-1b31-404d-8dda-8853305d244b",
   "metadata": {},
   "source": [
    "### 2.3. Temperature data"
   ]
  },
  {
   "cell_type": "code",
   "execution_count": 9,
   "id": "e75f90fa-bc46-4636-ba97-f3ea98fd0f0f",
   "metadata": {},
   "outputs": [
    {
     "name": "stderr",
     "output_type": "stream",
     "text": [
      "\u001b[1m\u001b[22m`summarise()` has grouped output by 'year', 'DHB', 'statistic'. You can\n",
      "override using the `.groups` argument.\n"
     ]
    },
    {
     "data": {
      "text/html": [
       "<table class=\"dataframe\">\n",
       "<caption>A tibble: 3 × 7</caption>\n",
       "<thead>\n",
       "\t<tr><th scope=col>DHB</th><th scope=col>year</th><th scope=col>sex</th><th scope=col>category</th><th scope=col>rf</th><th scope=col>value</th><th scope=col>type</th></tr>\n",
       "\t<tr><th scope=col>&lt;chr&gt;</th><th scope=col>&lt;dbl&gt;</th><th scope=col>&lt;chr&gt;</th><th scope=col>&lt;chr&gt;</th><th scope=col>&lt;chr&gt;</th><th scope=col>&lt;dbl&gt;</th><th scope=col>&lt;chr&gt;</th></tr>\n",
       "</thead>\n",
       "<tbody>\n",
       "\t<tr><td>Bay of Plenty</td><td>2011</td><td>AllSex</td><td>Temperature</td><td>Average_Annual</td><td>15.69167</td><td>value</td></tr>\n",
       "\t<tr><td>Bay of Plenty</td><td>2011</td><td>AllSex</td><td>Temperature</td><td>Average_Autumn</td><td>16.60000</td><td>value</td></tr>\n",
       "\t<tr><td>Bay of Plenty</td><td>2011</td><td>AllSex</td><td>Temperature</td><td>Average_Spring</td><td>14.56667</td><td>value</td></tr>\n",
       "</tbody>\n",
       "</table>\n"
      ],
      "text/latex": [
       "A tibble: 3 × 7\n",
       "\\begin{tabular}{lllllll}\n",
       " DHB & year & sex & category & rf & value & type\\\\\n",
       " <chr> & <dbl> & <chr> & <chr> & <chr> & <dbl> & <chr>\\\\\n",
       "\\hline\n",
       "\t Bay of Plenty & 2011 & AllSex & Temperature & Average\\_Annual & 15.69167 & value\\\\\n",
       "\t Bay of Plenty & 2011 & AllSex & Temperature & Average\\_Autumn & 16.60000 & value\\\\\n",
       "\t Bay of Plenty & 2011 & AllSex & Temperature & Average\\_Spring & 14.56667 & value\\\\\n",
       "\\end{tabular}\n"
      ],
      "text/markdown": [
       "\n",
       "A tibble: 3 × 7\n",
       "\n",
       "| DHB &lt;chr&gt; | year &lt;dbl&gt; | sex &lt;chr&gt; | category &lt;chr&gt; | rf &lt;chr&gt; | value &lt;dbl&gt; | type &lt;chr&gt; |\n",
       "|---|---|---|---|---|---|---|\n",
       "| Bay of Plenty | 2011 | AllSex | Temperature | Average_Annual | 15.69167 | value |\n",
       "| Bay of Plenty | 2011 | AllSex | Temperature | Average_Autumn | 16.60000 | value |\n",
       "| Bay of Plenty | 2011 | AllSex | Temperature | Average_Spring | 14.56667 | value |\n",
       "\n"
      ],
      "text/plain": [
       "  DHB           year sex    category    rf             value    type \n",
       "1 Bay of Plenty 2011 AllSex Temperature Average_Annual 15.69167 value\n",
       "2 Bay of Plenty 2011 AllSex Temperature Average_Autumn 16.60000 value\n",
       "3 Bay of Plenty 2011 AllSex Temperature Average_Spring 14.56667 value"
      ]
     },
     "metadata": {},
     "output_type": "display_data"
    }
   ],
   "source": [
    "### Temperature data ####\n",
    "#load temperature data with read_xlsx and suppress warnings messages\n",
    "suppressWarnings(tmp_1951_to_2022 <- readxl::read_xlsx('data/raw/annual&seasonal-temperature 1951-2022.xlsx'))\n",
    "\n",
    "\n",
    "tmp_1951_to_2022 %>% \n",
    "  filter(year >= 2011 & year <= 2020) %>% #filter year matching cancer data\n",
    "  select( year, site, statistic, season , temperature,lat,lon) %>% \n",
    "  st_as_sf(.,coords = c(\"lon\", \"lat\"), crs = 4326) %>% #transform into sf object for coordinates mapping\n",
    "  st_join(.,DHB_map) %>% # coordinates mapping\n",
    "  filter(!is.na(DHB))-> #remove coordinates that failed to map to DHB region\n",
    "  tmp_map\n",
    "\n",
    "tmp_map %>%\n",
    "  as.data.frame() %>%\n",
    "  select(-c(geometry,site)) %>%\n",
    "  group_by(year,DHB,statistic,season) %>% #summarize based on the year and DHB group\n",
    "  summarise(temperature = mean(temperature)) %>%\n",
    "  ungroup(.) %>%\n",
    "  pivot_wider(names_from = c(statistic,season), names_sep = '_', values_from = temperature) %>%\n",
    "  pivot_longer(names_to = c('rf'),  values_to = \"value\", cols = -c(1:2)) %>%\n",
    "  select(DHB,year,rf,value) %>%\n",
    "  mutate(sex = \"AllSex\", category = 'Temperature' , .before =3) %>%\n",
    "  mutate(type = \"value\")->\n",
    "  tmp\n",
    "\n",
    "tmp %>% head(3)"
   ]
  },
  {
   "cell_type": "markdown",
   "id": "5c3b015e-f158-401c-9085-77759706352a",
   "metadata": {},
   "source": [
    "### 2.4. Air quality data"
   ]
  },
  {
   "cell_type": "code",
   "execution_count": 10,
   "id": "8f1fb4cf-aef7-42ba-b3aa-dfe3455b4152",
   "metadata": {},
   "outputs": [
    {
     "name": "stderr",
     "output_type": "stream",
     "text": [
      "\u001b[1m\u001b[22m`summarise()` has grouped output by 'year', 'DHB'. You can override using the\n",
      "`.groups` argument.\n"
     ]
    },
    {
     "data": {
      "text/html": [
       "<table class=\"dataframe\">\n",
       "<caption>A grouped_df: 3 × 7</caption>\n",
       "<thead>\n",
       "\t<tr><th scope=col>DHB</th><th scope=col>year</th><th scope=col>sex</th><th scope=col>category</th><th scope=col>rf</th><th scope=col>value</th><th scope=col>type</th></tr>\n",
       "\t<tr><th scope=col>&lt;chr&gt;</th><th scope=col>&lt;chr&gt;</th><th scope=col>&lt;chr&gt;</th><th scope=col>&lt;chr&gt;</th><th scope=col>&lt;chr&gt;</th><th scope=col>&lt;dbl&gt;</th><th scope=col>&lt;chr&gt;</th></tr>\n",
       "</thead>\n",
       "<tbody>\n",
       "\t<tr><td>Auckland</td><td>2016</td><td>AllSex</td><td>Air quality</td><td>PM10_concentration_max </td><td>62.60000</td><td>value</td></tr>\n",
       "\t<tr><td>Auckland</td><td>2016</td><td>AllSex</td><td>Air quality</td><td>PM10_concentration_mean</td><td>16.03421</td><td>value</td></tr>\n",
       "\t<tr><td>Auckland</td><td>2016</td><td>AllSex</td><td>Air quality</td><td>PM2.5_concentration_max</td><td>19.40000</td><td>value</td></tr>\n",
       "</tbody>\n",
       "</table>\n"
      ],
      "text/latex": [
       "A grouped\\_df: 3 × 7\n",
       "\\begin{tabular}{lllllll}\n",
       " DHB & year & sex & category & rf & value & type\\\\\n",
       " <chr> & <chr> & <chr> & <chr> & <chr> & <dbl> & <chr>\\\\\n",
       "\\hline\n",
       "\t Auckland & 2016 & AllSex & Air quality & PM10\\_concentration\\_max  & 62.60000 & value\\\\\n",
       "\t Auckland & 2016 & AllSex & Air quality & PM10\\_concentration\\_mean & 16.03421 & value\\\\\n",
       "\t Auckland & 2016 & AllSex & Air quality & PM2.5\\_concentration\\_max & 19.40000 & value\\\\\n",
       "\\end{tabular}\n"
      ],
      "text/markdown": [
       "\n",
       "A grouped_df: 3 × 7\n",
       "\n",
       "| DHB &lt;chr&gt; | year &lt;chr&gt; | sex &lt;chr&gt; | category &lt;chr&gt; | rf &lt;chr&gt; | value &lt;dbl&gt; | type &lt;chr&gt; |\n",
       "|---|---|---|---|---|---|---|\n",
       "| Auckland | 2016 | AllSex | Air quality | PM10_concentration_max  | 62.60000 | value |\n",
       "| Auckland | 2016 | AllSex | Air quality | PM10_concentration_mean | 16.03421 | value |\n",
       "| Auckland | 2016 | AllSex | Air quality | PM2.5_concentration_max | 19.40000 | value |\n",
       "\n"
      ],
      "text/plain": [
       "  DHB      year sex    category    rf                      value    type \n",
       "1 Auckland 2016 AllSex Air quality PM10_concentration_max  62.60000 value\n",
       "2 Auckland 2016 AllSex Air quality PM10_concentration_mean 16.03421 value\n",
       "3 Auckland 2016 AllSex Air quality PM2.5_concentration_max 19.40000 value"
      ]
     },
     "metadata": {},
     "output_type": "display_data"
    }
   ],
   "source": [
    "### Air quality data ####\n",
    "air_2016_to_2022 <- readxl::read_xlsx('data/raw/air-quality2016-2022.xlsx')\n",
    "\n",
    "air_2016_to_2022 %>% \n",
    "  mutate(year =  format(as.Date(`Sample Date`),'%Y'), #extrate year info\n",
    "         Latitude = as.numeric(Latitude),\n",
    "         Longitude = as.numeric(Longitude)) %>%\n",
    "  filter(year >= 2011 & year <= 2020) %>% #filter year matching cancer data\n",
    "  select( Latitude, Longitude, year, Indicator,Concentration) %>% \n",
    "  st_as_sf(.,coords = c(\"Longitude\", \"Latitude\"), crs = 4326) %>% #transform into sf object for coordinates mapping\n",
    "  st_join(.,DHB_map) %>%  # coordinates mapping\n",
    "  filter(!is.na(DHB))-> #remove coordinates that failed to map to DHB region\n",
    "  air_map\n",
    "\n",
    "air_map %>%\n",
    "  as.data.frame() %>%\n",
    "  select(-c(geometry)) %>%\n",
    "  group_by(year,DHB,Indicator) %>%  #summarize based on the year and DHB group\n",
    "  summarise(concentration_max = max(Concentration,na.rm=T),\n",
    "            concentration_mean = mean(Concentration,na.rm=T)) %>%\n",
    "  pivot_longer(names_to = c('rf'),  values_to = \"value\", cols = -c(1:3)) %>%\n",
    "  mutate(rf = paste0(Indicator,'_',rf)) %>%\n",
    "  select(DHB,year,rf,value) %>%\n",
    "  mutate(sex = \"AllSex\", category = 'Air quality' , .before =3) %>%\n",
    "  mutate(type = \"value\") -> \n",
    "  air \n",
    "\n",
    "air %>% head(3)\n"
   ]
  },
  {
   "cell_type": "markdown",
   "id": "268784a0-0026-4e84-b6a2-5a5b6a813eaa",
   "metadata": {},
   "source": [
    "### 2.5. Ground water quality ###"
   ]
  },
  {
   "cell_type": "code",
   "execution_count": 11,
   "id": "1421cd6d-18db-45da-a863-175181e154ce",
   "metadata": {},
   "outputs": [
    {
     "name": "stderr",
     "output_type": "stream",
     "text": [
      "\u001b[1m\u001b[22m`summarise()` has grouped output by 'year', 'DHB'. You can override using the\n",
      "`.groups` argument.\n"
     ]
    },
    {
     "data": {
      "text/html": [
       "<table class=\"dataframe\">\n",
       "<caption>A grouped_df: 3 × 7</caption>\n",
       "<thead>\n",
       "\t<tr><th scope=col>DHB</th><th scope=col>year</th><th scope=col>sex</th><th scope=col>category</th><th scope=col>rf</th><th scope=col>value</th><th scope=col>type</th></tr>\n",
       "\t<tr><th scope=col>&lt;chr&gt;</th><th scope=col>&lt;chr&gt;</th><th scope=col>&lt;chr&gt;</th><th scope=col>&lt;chr&gt;</th><th scope=col>&lt;chr&gt;</th><th scope=col>&lt;dbl&gt;</th><th scope=col>&lt;chr&gt;</th></tr>\n",
       "</thead>\n",
       "<tbody>\n",
       "\t<tr><td>Auckland</td><td>2011</td><td>AllSex</td><td>Water quality</td><td>Chloride_max                     </td><td>18.700</td><td>value</td></tr>\n",
       "\t<tr><td>Auckland</td><td>2011</td><td>AllSex</td><td>Water quality</td><td>Chloride_mean                    </td><td>17.500</td><td>value</td></tr>\n",
       "\t<tr><td>Auckland</td><td>2011</td><td>AllSex</td><td>Water quality</td><td>Dissolved Reactive Phosphorus_max</td><td> 0.078</td><td>value</td></tr>\n",
       "</tbody>\n",
       "</table>\n"
      ],
      "text/latex": [
       "A grouped\\_df: 3 × 7\n",
       "\\begin{tabular}{lllllll}\n",
       " DHB & year & sex & category & rf & value & type\\\\\n",
       " <chr> & <chr> & <chr> & <chr> & <chr> & <dbl> & <chr>\\\\\n",
       "\\hline\n",
       "\t Auckland & 2011 & AllSex & Water quality & Chloride\\_max                      & 18.700 & value\\\\\n",
       "\t Auckland & 2011 & AllSex & Water quality & Chloride\\_mean                     & 17.500 & value\\\\\n",
       "\t Auckland & 2011 & AllSex & Water quality & Dissolved Reactive Phosphorus\\_max &  0.078 & value\\\\\n",
       "\\end{tabular}\n"
      ],
      "text/markdown": [
       "\n",
       "A grouped_df: 3 × 7\n",
       "\n",
       "| DHB &lt;chr&gt; | year &lt;chr&gt; | sex &lt;chr&gt; | category &lt;chr&gt; | rf &lt;chr&gt; | value &lt;dbl&gt; | type &lt;chr&gt; |\n",
       "|---|---|---|---|---|---|---|\n",
       "| Auckland | 2011 | AllSex | Water quality | Chloride_max                      | 18.700 | value |\n",
       "| Auckland | 2011 | AllSex | Water quality | Chloride_mean                     | 17.500 | value |\n",
       "| Auckland | 2011 | AllSex | Water quality | Dissolved Reactive Phosphorus_max |  0.078 | value |\n",
       "\n"
      ],
      "text/plain": [
       "  DHB      year sex    category      rf                                value \n",
       "1 Auckland 2011 AllSex Water quality Chloride_max                      18.700\n",
       "2 Auckland 2011 AllSex Water quality Chloride_mean                     17.500\n",
       "3 Auckland 2011 AllSex Water quality Dissolved Reactive Phosphorus_max  0.078\n",
       "  type \n",
       "1 value\n",
       "2 value\n",
       "3 value"
      ]
     },
     "metadata": {},
     "output_type": "display_data"
    }
   ],
   "source": [
    "#### Ground water quality ####\n",
    "\n",
    "suppressWarnings(water_2014_to_2021 <- readxl::read_xlsx('data/raw/ground water qualitiy 2014-2021.xlsx'))\n",
    "\n",
    "water_2014_to_2021 %>% \n",
    "  mutate(year =  format(as.Date(Date),'%Y')) %>% #extrate year info\n",
    "  filter(year >= 2011 & year <= 2020) %>% #filter year matching cancer data\n",
    "  select( Latitude, Longitude, year, Indicator,CensoredValue) %>% \n",
    "  st_as_sf(.,coords = c(\"Longitude\", \"Latitude\"), crs = 4326) %>% #transform into sf object for coordinates mapping\n",
    "  st_join(.,DHB_map) %>% # coordinates mapping\n",
    "  filter(!is.na(DHB)) -> #remove coordinates that failed to map to DHB region\n",
    "  water_map\n",
    "\n",
    "water_map %>%\n",
    "  as.data.frame() %>%\n",
    "  mutate(Indicator = str_replace(Indicator,\"E\\\\. coli\",\"E\\\\. Coli\")) %>%\n",
    "  select(-c(geometry)) %>%\n",
    "  group_by(year,DHB,Indicator) %>% #summarize based on the year and DHB group\n",
    "  summarise(censoredValue_max = max(CensoredValue,na.rm=T),\n",
    "            censoredValue_mean = mean(CensoredValue,na.rm=T)) %>%\n",
    "  pivot_longer(names_to = c('rf'),  values_to = \"value\", cols = -c(1:3)) %>%\n",
    "  mutate(rf = paste0(Indicator,'_', str_remove(rf,'censoredValue_'))) %>%\n",
    "  select(DHB,year,rf,value) %>%\n",
    "  mutate(sex = \"AllSex\", category = 'Water quality' , .before =3) %>%\n",
    "  mutate(type = \"value\") -> water\n",
    "\n",
    "water %>% head(3)"
   ]
  },
  {
   "cell_type": "markdown",
   "id": "f794cf48-4ebe-414f-8373-8d4252015bf5",
   "metadata": {},
   "source": [
    "## 3. Combine All Risk Factors data"
   ]
  },
  {
   "cell_type": "code",
   "execution_count": 12,
   "id": "933adad6-8715-49ed-95a0-51efb5691e99",
   "metadata": {},
   "outputs": [
    {
     "name": "stdout",
     "output_type": "stream",
     "text": [
      "── Data Summary ────────────────────────\n",
      "                           Values    \n",
      "Name                       Piped data\n",
      "Number of rows             56170     \n",
      "Number of columns          7         \n",
      "_______________________              \n",
      "Column type frequency:               \n",
      "  character                5         \n",
      "  numeric                  2         \n",
      "________________________             \n",
      "Group variables            None      \n",
      "\n",
      "── Variable type: character ────────────────────────────────────────────────────\n",
      "  skim_variable n_missing complete_rate min max empty n_unique whitespace\n",
      "\u001b[90m1\u001b[39m DHB                   0             1   5  34     0       22          0\n",
      "\u001b[90m2\u001b[39m sex                   0             1   4   6     0        3          0\n",
      "\u001b[90m3\u001b[39m category              0             1   4  13     0        9          0\n",
      "\u001b[90m4\u001b[39m rf                    0             1   4  61     0      182          0\n",
      "\u001b[90m5\u001b[39m type                  0             1   5  10     0        2          0\n",
      "\n",
      "── Variable type: numeric ──────────────────────────────────────────────────────\n",
      "  skim_variable n_missing complete_rate  mean      sd      p0    p25    p50\n",
      "\u001b[90m1\u001b[39m year                  0             1 \u001b[4m2\u001b[24m015.    2.61 \u001b[4m2\u001b[24m011    \u001b[4m2\u001b[24m013   \u001b[4m2\u001b[24m015  \n",
      "\u001b[90m2\u001b[39m value                 0             1  110. \u001b[4m6\u001b[24m357.     -\u001b[31m1\u001b[39m\u001b[31m.\u001b[39m\u001b[31m77\u001b[39m    6.4   16.3\n",
      "     p75   p100 hist \n",
      "\u001b[90m1\u001b[39m \u001b[4m2\u001b[24m018     \u001b[4m2\u001b[24m020 ▇▇▇▇▅\n",
      "\u001b[90m2\u001b[39m   39.9 \u001b[4m7\u001b[24m\u001b[4m6\u001b[24m\u001b[4m5\u001b[24m000 ▇▁▁▁▁\n"
     ]
    },
    {
     "name": "stderr",
     "output_type": "stream",
     "text": [
      "Warning message in is.null(text_repr) || nchar(text_repr) == 0L:\n",
      "“'length(x) = 17 > 1' in coercion to 'logical(1)'”\n"
     ]
    },
    {
     "data": {
      "text/html": [
       "<table class=\"dataframe\">\n",
       "<caption>A skim_df: 7 × 17</caption>\n",
       "<thead>\n",
       "\t<tr><th></th><th scope=col>skim_type</th><th scope=col>skim_variable</th><th scope=col>n_missing</th><th scope=col>complete_rate</th><th scope=col>character.min</th><th scope=col>character.max</th><th scope=col>character.empty</th><th scope=col>character.n_unique</th><th scope=col>character.whitespace</th><th scope=col>numeric.mean</th><th scope=col>numeric.sd</th><th scope=col>numeric.p0</th><th scope=col>numeric.p25</th><th scope=col>numeric.p50</th><th scope=col>numeric.p75</th><th scope=col>numeric.p100</th><th scope=col>numeric.hist</th></tr>\n",
       "\t<tr><th></th><th scope=col>&lt;chr&gt;</th><th scope=col>&lt;chr&gt;</th><th scope=col>&lt;int&gt;</th><th scope=col>&lt;dbl&gt;</th><th scope=col>&lt;int&gt;</th><th scope=col>&lt;int&gt;</th><th scope=col>&lt;int&gt;</th><th scope=col>&lt;int&gt;</th><th scope=col>&lt;int&gt;</th><th scope=col>&lt;dbl&gt;</th><th scope=col>&lt;dbl&gt;</th><th scope=col>&lt;dbl&gt;</th><th scope=col>&lt;dbl&gt;</th><th scope=col>&lt;dbl&gt;</th><th scope=col>&lt;dbl&gt;</th><th scope=col>&lt;dbl&gt;</th><th scope=col>&lt;chr&gt;</th></tr>\n",
       "</thead>\n",
       "<tbody>\n",
       "\t<tr><th scope=row>1</th><td>character</td><td>DHB     </td><td>0</td><td>1</td><td> 5</td><td>34</td><td> 0</td><td> 22</td><td> 0</td><td>       NA</td><td>         NA</td><td>         NA</td><td>    NA</td><td>        NA</td><td>    NA</td><td>    NA</td><td>NA   </td></tr>\n",
       "\t<tr><th scope=row>2</th><td>character</td><td>sex     </td><td>0</td><td>1</td><td> 4</td><td> 6</td><td> 0</td><td>  3</td><td> 0</td><td>       NA</td><td>         NA</td><td>         NA</td><td>    NA</td><td>        NA</td><td>    NA</td><td>    NA</td><td>NA   </td></tr>\n",
       "\t<tr><th scope=row>3</th><td>character</td><td>category</td><td>0</td><td>1</td><td> 4</td><td>13</td><td> 0</td><td>  9</td><td> 0</td><td>       NA</td><td>         NA</td><td>         NA</td><td>    NA</td><td>        NA</td><td>    NA</td><td>    NA</td><td>NA   </td></tr>\n",
       "\t<tr><th scope=row>4</th><td>character</td><td>rf      </td><td>0</td><td>1</td><td> 4</td><td>61</td><td> 0</td><td>182</td><td> 0</td><td>       NA</td><td>         NA</td><td>         NA</td><td>    NA</td><td>        NA</td><td>    NA</td><td>    NA</td><td>NA   </td></tr>\n",
       "\t<tr><th scope=row>5</th><td>character</td><td>type    </td><td>0</td><td>1</td><td> 5</td><td>10</td><td> 0</td><td>  2</td><td> 0</td><td>       NA</td><td>         NA</td><td>         NA</td><td>    NA</td><td>        NA</td><td>    NA</td><td>    NA</td><td>NA   </td></tr>\n",
       "\t<tr><th scope=row>6</th><td>numeric  </td><td>year    </td><td>0</td><td>1</td><td>NA</td><td>NA</td><td>NA</td><td> NA</td><td>NA</td><td>2015.1612</td><td>   2.605127</td><td>2011.000000</td><td>2013.0</td><td>2015.00000</td><td>2018.0</td><td>  2020</td><td>▇▇▇▇▅</td></tr>\n",
       "\t<tr><th scope=row>7</th><td>numeric  </td><td>value   </td><td>0</td><td>1</td><td>NA</td><td>NA</td><td>NA</td><td> NA</td><td>NA</td><td> 109.5362</td><td>6357.463406</td><td>  -1.766667</td><td>   6.4</td><td>  16.25417</td><td>  39.9</td><td>765000</td><td>▇▁▁▁▁</td></tr>\n",
       "</tbody>\n",
       "</table>\n"
      ],
      "text/latex": [
       "A skim\\_df: 7 × 17\n",
       "\\begin{tabular}{r|lllllllllllllllll}\n",
       "  & skim\\_type & skim\\_variable & n\\_missing & complete\\_rate & character.min & character.max & character.empty & character.n\\_unique & character.whitespace & numeric.mean & numeric.sd & numeric.p0 & numeric.p25 & numeric.p50 & numeric.p75 & numeric.p100 & numeric.hist\\\\\n",
       "  & <chr> & <chr> & <int> & <dbl> & <int> & <int> & <int> & <int> & <int> & <dbl> & <dbl> & <dbl> & <dbl> & <dbl> & <dbl> & <dbl> & <chr>\\\\\n",
       "\\hline\n",
       "\t1 & character & DHB      & 0 & 1 &  5 & 34 &  0 &  22 &  0 &        NA &          NA &          NA &     NA &         NA &     NA &     NA & NA   \\\\\n",
       "\t2 & character & sex      & 0 & 1 &  4 &  6 &  0 &   3 &  0 &        NA &          NA &          NA &     NA &         NA &     NA &     NA & NA   \\\\\n",
       "\t3 & character & category & 0 & 1 &  4 & 13 &  0 &   9 &  0 &        NA &          NA &          NA &     NA &         NA &     NA &     NA & NA   \\\\\n",
       "\t4 & character & rf       & 0 & 1 &  4 & 61 &  0 & 182 &  0 &        NA &          NA &          NA &     NA &         NA &     NA &     NA & NA   \\\\\n",
       "\t5 & character & type     & 0 & 1 &  5 & 10 &  0 &   2 &  0 &        NA &          NA &          NA &     NA &         NA &     NA &     NA & NA   \\\\\n",
       "\t6 & numeric   & year     & 0 & 1 & NA & NA & NA &  NA & NA & 2015.1612 &    2.605127 & 2011.000000 & 2013.0 & 2015.00000 & 2018.0 &   2020 & ▇▇▇▇▅\\\\\n",
       "\t7 & numeric   & value    & 0 & 1 & NA & NA & NA &  NA & NA &  109.5362 & 6357.463406 &   -1.766667 &    6.4 &   16.25417 &   39.9 & 765000 & ▇▁▁▁▁\\\\\n",
       "\\end{tabular}\n"
      ],
      "text/markdown": [
       "\n",
       "A skim_df: 7 × 17\n",
       "\n",
       "| <!--/--> | skim_type &lt;chr&gt; | skim_variable &lt;chr&gt; | n_missing &lt;int&gt; | complete_rate &lt;dbl&gt; | character.min &lt;int&gt; | character.max &lt;int&gt; | character.empty &lt;int&gt; | character.n_unique &lt;int&gt; | character.whitespace &lt;int&gt; | numeric.mean &lt;dbl&gt; | numeric.sd &lt;dbl&gt; | numeric.p0 &lt;dbl&gt; | numeric.p25 &lt;dbl&gt; | numeric.p50 &lt;dbl&gt; | numeric.p75 &lt;dbl&gt; | numeric.p100 &lt;dbl&gt; | numeric.hist &lt;chr&gt; |\n",
       "|---|---|---|---|---|---|---|---|---|---|---|---|---|---|---|---|---|---|\n",
       "| 1 | character | DHB      | 0 | 1 |  5 | 34 |  0 |  22 |  0 |        NA |          NA |          NA |     NA |         NA |     NA |     NA | NA    |\n",
       "| 2 | character | sex      | 0 | 1 |  4 |  6 |  0 |   3 |  0 |        NA |          NA |          NA |     NA |         NA |     NA |     NA | NA    |\n",
       "| 3 | character | category | 0 | 1 |  4 | 13 |  0 |   9 |  0 |        NA |          NA |          NA |     NA |         NA |     NA |     NA | NA    |\n",
       "| 4 | character | rf       | 0 | 1 |  4 | 61 |  0 | 182 |  0 |        NA |          NA |          NA |     NA |         NA |     NA |     NA | NA    |\n",
       "| 5 | character | type     | 0 | 1 |  5 | 10 |  0 |   2 |  0 |        NA |          NA |          NA |     NA |         NA |     NA |     NA | NA    |\n",
       "| 6 | numeric   | year     | 0 | 1 | NA | NA | NA |  NA | NA | 2015.1612 |    2.605127 | 2011.000000 | 2013.0 | 2015.00000 | 2018.0 |   2020 | ▇▇▇▇▅ |\n",
       "| 7 | numeric   | value    | 0 | 1 | NA | NA | NA |  NA | NA |  109.5362 | 6357.463406 |   -1.766667 |    6.4 |   16.25417 |   39.9 | 765000 | ▇▁▁▁▁ |\n",
       "\n"
      ],
      "text/plain": [
       {
        "character.empty": 0,
        "character.max": 34,
        "character.min": 5,
        "character.n_unique": 22,
        "character.whitespace": 0,
        "complete_rate": 1,
        "n_missing": 0,
        "skim_type": "character",
        "skim_variable": "DHB"
       },
       {
        "character.empty": 0,
        "character.max": 6,
        "character.min": 4,
        "character.n_unique": 3,
        "character.whitespace": 0,
        "complete_rate": 1,
        "n_missing": 0,
        "skim_type": "character",
        "skim_variable": "sex"
       },
       {
        "character.empty": 0,
        "character.max": 13,
        "character.min": 4,
        "character.n_unique": 9,
        "character.whitespace": 0,
        "complete_rate": 1,
        "n_missing": 0,
        "skim_type": "character",
        "skim_variable": "category"
       },
       {
        "character.empty": 0,
        "character.max": 61,
        "character.min": 4,
        "character.n_unique": 182,
        "character.whitespace": 0,
        "complete_rate": 1,
        "n_missing": 0,
        "skim_type": "character",
        "skim_variable": "rf"
       },
       {
        "character.empty": 0,
        "character.max": 10,
        "character.min": 5,
        "character.n_unique": 2,
        "character.whitespace": 0,
        "complete_rate": 1,
        "n_missing": 0,
        "skim_type": "character",
        "skim_variable": "type"
       },
       {
        "complete_rate": 1,
        "n_missing": 0,
        "numeric.hist": "▇▇▇▇▅",
        "numeric.mean": 2015.1612,
        "numeric.p0": 2011,
        "numeric.p100": 2020,
        "numeric.p25": 2013,
        "numeric.p50": 2015,
        "numeric.p75": 2018,
        "numeric.sd": 2.6051,
        "skim_type": "numeric",
        "skim_variable": "year"
       },
       {
        "complete_rate": 1,
        "n_missing": 0,
        "numeric.hist": "▇▁▁▁▁",
        "numeric.mean": 109.5362,
        "numeric.p0": -1.7667,
        "numeric.p100": 765000,
        "numeric.p25": 6.4,
        "numeric.p50": 16.2542,
        "numeric.p75": 39.9,
        "numeric.sd": 6357.4634,
        "skim_type": "numeric",
        "skim_variable": "value"
       }
      ]
     },
     "metadata": {},
     "output_type": "display_data"
    },
    {
     "data": {
      "text/html": [
       "<table class=\"dataframe\">\n",
       "<caption>A tibble: 1 × 2</caption>\n",
       "<thead>\n",
       "\t<tr><th scope=col>checked</th><th scope=col>n</th></tr>\n",
       "\t<tr><th scope=col>&lt;lgl&gt;</th><th scope=col>&lt;int&gt;</th></tr>\n",
       "</thead>\n",
       "<tbody>\n",
       "\t<tr><td>FALSE</td><td>56170</td></tr>\n",
       "</tbody>\n",
       "</table>\n"
      ],
      "text/latex": [
       "A tibble: 1 × 2\n",
       "\\begin{tabular}{ll}\n",
       " checked & n\\\\\n",
       " <lgl> & <int>\\\\\n",
       "\\hline\n",
       "\t FALSE & 56170\\\\\n",
       "\\end{tabular}\n"
      ],
      "text/markdown": [
       "\n",
       "A tibble: 1 × 2\n",
       "\n",
       "| checked &lt;lgl&gt; | n &lt;int&gt; |\n",
       "|---|---|\n",
       "| FALSE | 56170 |\n",
       "\n"
      ],
      "text/plain": [
       "  checked n    \n",
       "1 FALSE   56170"
      ]
     },
     "metadata": {},
     "output_type": "display_data"
    }
   ],
   "source": [
    "## combine all rf datasets\n",
    "\n",
    "rf <- reduce(list(nzhs_long,whs,children,income,edu,earthquake,tmp,water,air),rbind) %>%\n",
    "  mutate(year = as.numeric(year))\n",
    "\n",
    "rf %>% skimr::skim() # view data \n",
    "\n",
    "rf %>% mutate(checked = duplicated(paste(DHB,year,sex,category,rf)))  %>% count(checked) # check no duplicates\n"
   ]
  },
  {
   "cell_type": "code",
   "execution_count": 13,
   "id": "eaaba459-7114-4a9d-895f-670f22032214",
   "metadata": {},
   "outputs": [],
   "source": [
    "save(rf,file = 'data/clean/rf.Rdata')"
   ]
  }
 ],
 "metadata": {
  "kernelspec": {
   "display_name": "R",
   "language": "R",
   "name": "ir"
  },
  "language_info": {
   "codemirror_mode": "r",
   "file_extension": ".r",
   "mimetype": "text/x-r-source",
   "name": "R",
   "pygments_lexer": "r",
   "version": "4.2.2"
  }
 },
 "nbformat": 4,
 "nbformat_minor": 5
}
