{
 "cells": [
  {
   "cell_type": "markdown",
   "id": "cf01026d-0243-40e1-af7b-5785639f9ae2",
   "metadata": {
    "tags": []
   },
   "source": [
    "# Data pre-processing and wrangling for cancer incidence data and cancer mortality data\n",
    "\n",
    "There are two datasets about cancer registrations by dhb and cancer death by dhb.   \n",
    "In this part, we cleaned and reformatted these two datasets and output two clean csv files 'incidence.csv' and 'mortality.csv'.  \n",
    "To support our following research, we filtered 'Cancer type' and accoding 'sex' group into sexfiltered files."
   ]
  },
  {
   "cell_type": "code",
   "execution_count": 1,
   "id": "03a21f6d-edeb-4bec-b86f-9b38ab9f1bb9",
   "metadata": {
    "tags": []
   },
   "outputs": [
    {
     "data": {
      "text/html": [
       "<div><div style = \"float: left;\"><span>6300×6 DataFrame</span></div><div style = \"float: right;\"><span style = \"font-style: italic;\">6275 rows omitted</span></div><div style = \"clear: both;\"></div></div><div class = \"data-frame\" style = \"overflow-x: scroll;\"><table class = \"data-frame\" style = \"margin-bottom: 6px;\"><thead><tr class = \"header\"><th class = \"rowNumber\" style = \"font-weight: bold; text-align: right;\">Row</th><th style = \"text-align: left;\">DHB</th><th style = \"text-align: left;\">year</th><th style = \"text-align: left;\">sex</th><th style = \"text-align: left;\">cancer</th><th style = \"text-align: left;\">incidence_num</th><th style = \"text-align: left;\">incidence_rate</th></tr><tr class = \"subheader headerLastRow\"><th class = \"rowNumber\" style = \"font-weight: bold; text-align: right;\"></th><th title = \"String\" style = \"text-align: left;\">String</th><th title = \"Int64\" style = \"text-align: left;\">Int64</th><th title = \"String\" style = \"text-align: left;\">String</th><th title = \"String\" style = \"text-align: left;\">String</th><th title = \"Int64\" style = \"text-align: left;\">Int64</th><th title = \"Float64\" style = \"text-align: left;\">Float64</th></tr></thead><tbody><tr><td class = \"rowNumber\" style = \"font-weight: bold; text-align: right;\">1</td><td style = \"text-align: left;\">All New Zealand</td><td style = \"text-align: right;\">2011</td><td style = \"text-align: left;\">Male</td><td style = \"text-align: left;\">Bladder</td><td style = \"text-align: right;\">234</td><td style = \"text-align: right;\">7.3</td></tr><tr><td class = \"rowNumber\" style = \"font-weight: bold; text-align: right;\">2</td><td style = \"text-align: left;\">Auckland</td><td style = \"text-align: right;\">2011</td><td style = \"text-align: left;\">Male</td><td style = \"text-align: left;\">Bladder</td><td style = \"text-align: right;\">17</td><td style = \"text-align: right;\">6.7</td></tr><tr><td class = \"rowNumber\" style = \"font-weight: bold; text-align: right;\">3</td><td style = \"text-align: left;\">Bay of Plenty</td><td style = \"text-align: right;\">2011</td><td style = \"text-align: left;\">Male</td><td style = \"text-align: left;\">Bladder</td><td style = \"text-align: right;\">14</td><td style = \"text-align: right;\">6.9</td></tr><tr><td class = \"rowNumber\" style = \"font-weight: bold; text-align: right;\">4</td><td style = \"text-align: left;\">Canterbury</td><td style = \"text-align: right;\">2011</td><td style = \"text-align: left;\">Male</td><td style = \"text-align: left;\">Bladder</td><td style = \"text-align: right;\">32</td><td style = \"text-align: right;\">8.1</td></tr><tr><td class = \"rowNumber\" style = \"font-weight: bold; text-align: right;\">5</td><td style = \"text-align: left;\">Capital &amp; Coast</td><td style = \"text-align: right;\">2011</td><td style = \"text-align: left;\">Male</td><td style = \"text-align: left;\">Bladder</td><td style = \"text-align: right;\">13</td><td style = \"text-align: right;\">7.5</td></tr><tr><td class = \"rowNumber\" style = \"font-weight: bold; text-align: right;\">6</td><td style = \"text-align: left;\">Counties Manukau</td><td style = \"text-align: right;\">2011</td><td style = \"text-align: left;\">Male</td><td style = \"text-align: left;\">Bladder</td><td style = \"text-align: right;\">14</td><td style = \"text-align: right;\">5.2</td></tr><tr><td class = \"rowNumber\" style = \"font-weight: bold; text-align: right;\">7</td><td style = \"text-align: left;\">Hawke&apos;s Bay</td><td style = \"text-align: right;\">2011</td><td style = \"text-align: left;\">Male</td><td style = \"text-align: left;\">Bladder</td><td style = \"text-align: right;\">14</td><td style = \"text-align: right;\">11.5</td></tr><tr><td class = \"rowNumber\" style = \"font-weight: bold; text-align: right;\">8</td><td style = \"text-align: left;\">Hutt Valley</td><td style = \"text-align: right;\">2011</td><td style = \"text-align: left;\">Male</td><td style = \"text-align: left;\">Bladder</td><td style = \"text-align: right;\">10</td><td style = \"text-align: right;\">9.8</td></tr><tr><td class = \"rowNumber\" style = \"font-weight: bold; text-align: right;\">9</td><td style = \"text-align: left;\">Lakes</td><td style = \"text-align: right;\">2011</td><td style = \"text-align: left;\">Male</td><td style = \"text-align: left;\">Bladder</td><td style = \"text-align: right;\">5</td><td style = \"text-align: right;\">0.0</td></tr><tr><td class = \"rowNumber\" style = \"font-weight: bold; text-align: right;\">10</td><td style = \"text-align: left;\">MidCentral</td><td style = \"text-align: right;\">2011</td><td style = \"text-align: left;\">Male</td><td style = \"text-align: left;\">Bladder</td><td style = \"text-align: right;\">10</td><td style = \"text-align: right;\">7.7</td></tr><tr><td class = \"rowNumber\" style = \"font-weight: bold; text-align: right;\">11</td><td style = \"text-align: left;\">Nelson Marlborough</td><td style = \"text-align: right;\">2011</td><td style = \"text-align: left;\">Male</td><td style = \"text-align: left;\">Bladder</td><td style = \"text-align: right;\">9</td><td style = \"text-align: right;\">6.6</td></tr><tr><td class = \"rowNumber\" style = \"font-weight: bold; text-align: right;\">12</td><td style = \"text-align: left;\">Northland</td><td style = \"text-align: right;\">2011</td><td style = \"text-align: left;\">Male</td><td style = \"text-align: left;\">Bladder</td><td style = \"text-align: right;\">10</td><td style = \"text-align: right;\">6.7</td></tr><tr><td class = \"rowNumber\" style = \"font-weight: bold; text-align: right;\">13</td><td style = \"text-align: left;\">South Canterbury</td><td style = \"text-align: right;\">2011</td><td style = \"text-align: left;\">Male</td><td style = \"text-align: left;\">Bladder</td><td style = \"text-align: right;\">5</td><td style = \"text-align: right;\">0.0</td></tr><tr><td style = \"text-align: right;\">&vellip;</td><td style = \"text-align: right;\">&vellip;</td><td style = \"text-align: right;\">&vellip;</td><td style = \"text-align: right;\">&vellip;</td><td style = \"text-align: right;\">&vellip;</td><td style = \"text-align: right;\">&vellip;</td><td style = \"text-align: right;\">&vellip;</td></tr><tr><td class = \"rowNumber\" style = \"font-weight: bold; text-align: right;\">6289</td><td style = \"text-align: left;\">MidCentral</td><td style = \"text-align: right;\">2020</td><td style = \"text-align: left;\">AllSex</td><td style = \"text-align: left;\">Uterine</td><td style = \"text-align: right;\">18</td><td style = \"text-align: right;\">6.0</td></tr><tr><td class = \"rowNumber\" style = \"font-weight: bold; text-align: right;\">6290</td><td style = \"text-align: left;\">Nelson Marlborough</td><td style = \"text-align: right;\">2020</td><td style = \"text-align: left;\">AllSex</td><td style = \"text-align: left;\">Uterine</td><td style = \"text-align: right;\">19</td><td style = \"text-align: right;\">6.6</td></tr><tr><td class = \"rowNumber\" style = \"font-weight: bold; text-align: right;\">6291</td><td style = \"text-align: left;\">Northland</td><td style = \"text-align: right;\">2020</td><td style = \"text-align: left;\">AllSex</td><td style = \"text-align: left;\">Uterine</td><td style = \"text-align: right;\">29</td><td style = \"text-align: right;\">8.4</td></tr><tr><td class = \"rowNumber\" style = \"font-weight: bold; text-align: right;\">6292</td><td style = \"text-align: left;\">South Canterbury</td><td style = \"text-align: right;\">2020</td><td style = \"text-align: left;\">AllSex</td><td style = \"text-align: left;\">Uterine</td><td style = \"text-align: right;\">11</td><td style = \"text-align: right;\">10.4</td></tr><tr><td class = \"rowNumber\" style = \"font-weight: bold; text-align: right;\">6293</td><td style = \"text-align: left;\">Southern</td><td style = \"text-align: right;\">2020</td><td style = \"text-align: left;\">AllSex</td><td style = \"text-align: left;\">Uterine</td><td style = \"text-align: right;\">48</td><td style = \"text-align: right;\">9.4</td></tr><tr><td class = \"rowNumber\" style = \"font-weight: bold; text-align: right;\">6294</td><td style = \"text-align: left;\">Tairawhiti</td><td style = \"text-align: right;\">2020</td><td style = \"text-align: left;\">AllSex</td><td style = \"text-align: left;\">Uterine</td><td style = \"text-align: right;\">3</td><td style = \"text-align: right;\">0.0</td></tr><tr><td class = \"rowNumber\" style = \"font-weight: bold; text-align: right;\">6295</td><td style = \"text-align: left;\">Taranaki</td><td style = \"text-align: right;\">2020</td><td style = \"text-align: left;\">AllSex</td><td style = \"text-align: left;\">Uterine</td><td style = \"text-align: right;\">20</td><td style = \"text-align: right;\">9.8</td></tr><tr><td class = \"rowNumber\" style = \"font-weight: bold; text-align: right;\">6296</td><td style = \"text-align: left;\">Waikato</td><td style = \"text-align: right;\">2020</td><td style = \"text-align: left;\">AllSex</td><td style = \"text-align: left;\">Uterine</td><td style = \"text-align: right;\">62</td><td style = \"text-align: right;\">9.4</td></tr><tr><td class = \"rowNumber\" style = \"font-weight: bold; text-align: right;\">6297</td><td style = \"text-align: left;\">Wairarapa</td><td style = \"text-align: right;\">2020</td><td style = \"text-align: left;\">AllSex</td><td style = \"text-align: left;\">Uterine</td><td style = \"text-align: right;\">5</td><td style = \"text-align: right;\">0.0</td></tr><tr><td class = \"rowNumber\" style = \"font-weight: bold; text-align: right;\">6298</td><td style = \"text-align: left;\">Waitemata</td><td style = \"text-align: right;\">2020</td><td style = \"text-align: left;\">AllSex</td><td style = \"text-align: left;\">Uterine</td><td style = \"text-align: right;\">90</td><td style = \"text-align: right;\">10.2</td></tr><tr><td class = \"rowNumber\" style = \"font-weight: bold; text-align: right;\">6299</td><td style = \"text-align: left;\">West Coast</td><td style = \"text-align: right;\">2020</td><td style = \"text-align: left;\">AllSex</td><td style = \"text-align: left;\">Uterine</td><td style = \"text-align: right;\">3</td><td style = \"text-align: right;\">0.0</td></tr><tr><td class = \"rowNumber\" style = \"font-weight: bold; text-align: right;\">6300</td><td style = \"text-align: left;\">Whanganui</td><td style = \"text-align: right;\">2020</td><td style = \"text-align: left;\">AllSex</td><td style = \"text-align: left;\">Uterine</td><td style = \"text-align: right;\">12</td><td style = \"text-align: right;\">9.6</td></tr></tbody></table></div>"
      ],
      "text/latex": [
       "\\begin{tabular}{r|cccccc}\n",
       "\t& DHB & year & sex & cancer & incidence\\_num & incidence\\_rate\\\\\n",
       "\t\\hline\n",
       "\t& String & Int64 & String & String & Int64 & Float64\\\\\n",
       "\t\\hline\n",
       "\t1 & All New Zealand & 2011 & Male & Bladder & 234 & 7.3 \\\\\n",
       "\t2 & Auckland & 2011 & Male & Bladder & 17 & 6.7 \\\\\n",
       "\t3 & Bay of Plenty & 2011 & Male & Bladder & 14 & 6.9 \\\\\n",
       "\t4 & Canterbury & 2011 & Male & Bladder & 32 & 8.1 \\\\\n",
       "\t5 & Capital \\& Coast & 2011 & Male & Bladder & 13 & 7.5 \\\\\n",
       "\t6 & Counties Manukau & 2011 & Male & Bladder & 14 & 5.2 \\\\\n",
       "\t7 & Hawke's Bay & 2011 & Male & Bladder & 14 & 11.5 \\\\\n",
       "\t8 & Hutt Valley & 2011 & Male & Bladder & 10 & 9.8 \\\\\n",
       "\t9 & Lakes & 2011 & Male & Bladder & 5 & 0.0 \\\\\n",
       "\t10 & MidCentral & 2011 & Male & Bladder & 10 & 7.7 \\\\\n",
       "\t11 & Nelson Marlborough & 2011 & Male & Bladder & 9 & 6.6 \\\\\n",
       "\t12 & Northland & 2011 & Male & Bladder & 10 & 6.7 \\\\\n",
       "\t13 & South Canterbury & 2011 & Male & Bladder & 5 & 0.0 \\\\\n",
       "\t14 & Southern & 2011 & Male & Bladder & 15 & 5.8 \\\\\n",
       "\t15 & Tairawhiti & 2011 & Male & Bladder & 2 & 0.0 \\\\\n",
       "\t16 & Taranaki & 2011 & Male & Bladder & 5 & 0.0 \\\\\n",
       "\t17 & Waikato & 2011 & Male & Bladder & 18 & 6.5 \\\\\n",
       "\t18 & Wairarapa & 2011 & Male & Bladder & 1 & 0.0 \\\\\n",
       "\t19 & Waitemata & 2011 & Male & Bladder & 30 & 8.4 \\\\\n",
       "\t20 & West Coast & 2011 & Male & Bladder & 3 & 0.0 \\\\\n",
       "\t21 & Whanganui & 2011 & Male & Bladder & 7 & 14.4 \\\\\n",
       "\t22 & All New Zealand & 2011 & Male & Colorectal & 1619 & 51.9 \\\\\n",
       "\t23 & Auckland & 2011 & Male & Colorectal & 120 & 45.9 \\\\\n",
       "\t24 & Bay of Plenty & 2011 & Male & Colorectal & 96 & 50.3 \\\\\n",
       "\t25 & Canterbury & 2011 & Male & Colorectal & 201 & 53.7 \\\\\n",
       "\t26 & Capital \\& Coast & 2011 & Male & Colorectal & 74 & 41.9 \\\\\n",
       "\t27 & Counties Manukau & 2011 & Male & Colorectal & 139 & 51.6 \\\\\n",
       "\t28 & Hawke's Bay & 2011 & Male & Colorectal & 61 & 49.9 \\\\\n",
       "\t29 & Hutt Valley & 2011 & Male & Colorectal & 50 & 53.0 \\\\\n",
       "\t30 & Lakes & 2011 & Male & Colorectal & 43 & 61.1 \\\\\n",
       "\t$\\dots$ & $\\dots$ & $\\dots$ & $\\dots$ & $\\dots$ & $\\dots$ & $\\dots$ \\\\\n",
       "\\end{tabular}\n"
      ],
      "text/plain": [
       "\u001b[1m6300×6 DataFrame\u001b[0m\n",
       "\u001b[1m  Row \u001b[0m│\u001b[1m DHB                \u001b[0m\u001b[1m year  \u001b[0m\u001b[1m sex    \u001b[0m\u001b[1m cancer  \u001b[0m\u001b[1m incidence_num \u001b[0m\u001b[1m incidence_r\u001b[0m ⋯\n",
       "      │\u001b[90m String             \u001b[0m\u001b[90m Int64 \u001b[0m\u001b[90m String \u001b[0m\u001b[90m String  \u001b[0m\u001b[90m Int64         \u001b[0m\u001b[90m Float64    \u001b[0m ⋯\n",
       "──────┼─────────────────────────────────────────────────────────────────────────\n",
       "    1 │ All New Zealand      2011  Male    Bladder            234              ⋯\n",
       "    2 │ Auckland             2011  Male    Bladder             17\n",
       "    3 │ Bay of Plenty        2011  Male    Bladder             14\n",
       "    4 │ Canterbury           2011  Male    Bladder             32\n",
       "    5 │ Capital & Coast      2011  Male    Bladder             13              ⋯\n",
       "    6 │ Counties Manukau     2011  Male    Bladder             14\n",
       "    7 │ Hawke's Bay          2011  Male    Bladder             14            1\n",
       "    8 │ Hutt Valley          2011  Male    Bladder             10\n",
       "    9 │ Lakes                2011  Male    Bladder              5              ⋯\n",
       "   10 │ MidCentral           2011  Male    Bladder             10\n",
       "   11 │ Nelson Marlborough   2011  Male    Bladder              9\n",
       "  ⋮   │         ⋮             ⋮      ⋮        ⋮           ⋮              ⋮     ⋱\n",
       " 6291 │ Northland            2020  AllSex  Uterine             29\n",
       " 6292 │ South Canterbury     2020  AllSex  Uterine             11            1 ⋯\n",
       " 6293 │ Southern             2020  AllSex  Uterine             48\n",
       " 6294 │ Tairawhiti           2020  AllSex  Uterine              3\n",
       " 6295 │ Taranaki             2020  AllSex  Uterine             20\n",
       " 6296 │ Waikato              2020  AllSex  Uterine             62              ⋯\n",
       " 6297 │ Wairarapa            2020  AllSex  Uterine              5\n",
       " 6298 │ Waitemata            2020  AllSex  Uterine             90            1\n",
       " 6299 │ West Coast           2020  AllSex  Uterine              3\n",
       " 6300 │ Whanganui            2020  AllSex  Uterine             12              ⋯\n",
       "\u001b[36m                                                  1 column and 6279 rows omitted\u001b[0m"
      ]
     },
     "execution_count": 1,
     "metadata": {},
     "output_type": "execute_result"
    }
   ],
   "source": [
    "using CSV, DataFrames, StringDistances, StatsBase, Plots\n",
    "#### 2. Data Cleaning ####\n",
    "\n",
    "#### 2.1. Cancer data ####\n",
    "#### 2.1.1 Incidence ####\n",
    "\n",
    "# Load data\n",
    "incidence = CSV.File(\"D:/cancer-registrations-by-dhb.csv\") |> DataFrame\n",
    "\n",
    "# Process character data\n",
    "incidence = incidence[incidence.DHB .!= \"Overseas and undefined\", :]\n",
    "incidence[!, :cancer] .= replace.(incidence[!, :\"Cancer type\"], r\"\\s\\([^)]+\\)\" .=> \"\")\n",
    "\n",
    "# Rename column names\n",
    "rename!(incidence, :Year => :year, :Sex => :sex, :Number => :incidence_num, :Rate => :incidence_rate)\n",
    "\n",
    "# Pre-process for data format\n",
    "incidence = select(incidence, [:DHB, :year, :sex, :cancer, :incidence_num, :incidence_rate])\n",
    "incidence[!, :incidence_rate] .= replace.(incidence[!, :incidence_rate], \"S\" => \"0\")\n",
    "incidence[!, :incidence_rate] .= parse.(Float64, incidence[!, :incidence_rate])\n",
    "\n",
    "incidence"
   ]
  },
  {
   "cell_type": "code",
   "execution_count": 2,
   "id": "a066b523-3c41-4d07-86d4-d9d8bf46a399",
   "metadata": {
    "tags": []
   },
   "outputs": [
    {
     "data": {
      "text/html": [
       "<div><div style = \"float: left;\"><span>2940×7 DataFrame</span></div><div style = \"float: right;\"><span style = \"font-style: italic;\">2915 rows omitted</span></div><div style = \"clear: both;\"></div></div><div class = \"data-frame\" style = \"overflow-x: scroll;\"><table class = \"data-frame\" style = \"margin-bottom: 6px;\"><thead><tr class = \"header\"><th class = \"rowNumber\" style = \"font-weight: bold; text-align: right;\">Row</th><th style = \"text-align: left;\">DHB</th><th style = \"text-align: left;\">year</th><th style = \"text-align: left;\">sex</th><th style = \"text-align: left;\">cancer</th><th style = \"text-align: left;\">incidence_num</th><th style = \"text-align: left;\">incidence_rate</th><th style = \"text-align: left;\">group</th></tr><tr class = \"subheader headerLastRow\"><th class = \"rowNumber\" style = \"font-weight: bold; text-align: right;\"></th><th title = \"String\" style = \"text-align: left;\">String</th><th title = \"Int64\" style = \"text-align: left;\">Int64</th><th title = \"String\" style = \"text-align: left;\">String</th><th title = \"String\" style = \"text-align: left;\">String</th><th title = \"Int64\" style = \"text-align: left;\">Int64</th><th title = \"Float64\" style = \"text-align: left;\">Float64</th><th title = \"String\" style = \"text-align: left;\">String</th></tr></thead><tbody><tr><td class = \"rowNumber\" style = \"font-weight: bold; text-align: right;\">1</td><td style = \"text-align: left;\">All New Zealand</td><td style = \"text-align: right;\">2011</td><td style = \"text-align: left;\">Male</td><td style = \"text-align: left;\">Bladder</td><td style = \"text-align: right;\">234</td><td style = \"text-align: right;\">7.3</td><td style = \"text-align: left;\">Male</td></tr><tr><td class = \"rowNumber\" style = \"font-weight: bold; text-align: right;\">2</td><td style = \"text-align: left;\">Auckland</td><td style = \"text-align: right;\">2011</td><td style = \"text-align: left;\">Male</td><td style = \"text-align: left;\">Bladder</td><td style = \"text-align: right;\">17</td><td style = \"text-align: right;\">6.7</td><td style = \"text-align: left;\">Male</td></tr><tr><td class = \"rowNumber\" style = \"font-weight: bold; text-align: right;\">3</td><td style = \"text-align: left;\">Bay of Plenty</td><td style = \"text-align: right;\">2011</td><td style = \"text-align: left;\">Male</td><td style = \"text-align: left;\">Bladder</td><td style = \"text-align: right;\">14</td><td style = \"text-align: right;\">6.9</td><td style = \"text-align: left;\">Male</td></tr><tr><td class = \"rowNumber\" style = \"font-weight: bold; text-align: right;\">4</td><td style = \"text-align: left;\">Canterbury</td><td style = \"text-align: right;\">2011</td><td style = \"text-align: left;\">Male</td><td style = \"text-align: left;\">Bladder</td><td style = \"text-align: right;\">32</td><td style = \"text-align: right;\">8.1</td><td style = \"text-align: left;\">Male</td></tr><tr><td class = \"rowNumber\" style = \"font-weight: bold; text-align: right;\">5</td><td style = \"text-align: left;\">Capital &amp; Coast</td><td style = \"text-align: right;\">2011</td><td style = \"text-align: left;\">Male</td><td style = \"text-align: left;\">Bladder</td><td style = \"text-align: right;\">13</td><td style = \"text-align: right;\">7.5</td><td style = \"text-align: left;\">Male</td></tr><tr><td class = \"rowNumber\" style = \"font-weight: bold; text-align: right;\">6</td><td style = \"text-align: left;\">Counties Manukau</td><td style = \"text-align: right;\">2011</td><td style = \"text-align: left;\">Male</td><td style = \"text-align: left;\">Bladder</td><td style = \"text-align: right;\">14</td><td style = \"text-align: right;\">5.2</td><td style = \"text-align: left;\">Male</td></tr><tr><td class = \"rowNumber\" style = \"font-weight: bold; text-align: right;\">7</td><td style = \"text-align: left;\">Hawke&apos;s Bay</td><td style = \"text-align: right;\">2011</td><td style = \"text-align: left;\">Male</td><td style = \"text-align: left;\">Bladder</td><td style = \"text-align: right;\">14</td><td style = \"text-align: right;\">11.5</td><td style = \"text-align: left;\">Male</td></tr><tr><td class = \"rowNumber\" style = \"font-weight: bold; text-align: right;\">8</td><td style = \"text-align: left;\">Hutt Valley</td><td style = \"text-align: right;\">2011</td><td style = \"text-align: left;\">Male</td><td style = \"text-align: left;\">Bladder</td><td style = \"text-align: right;\">10</td><td style = \"text-align: right;\">9.8</td><td style = \"text-align: left;\">Male</td></tr><tr><td class = \"rowNumber\" style = \"font-weight: bold; text-align: right;\">9</td><td style = \"text-align: left;\">Lakes</td><td style = \"text-align: right;\">2011</td><td style = \"text-align: left;\">Male</td><td style = \"text-align: left;\">Bladder</td><td style = \"text-align: right;\">5</td><td style = \"text-align: right;\">0.0</td><td style = \"text-align: left;\">Male</td></tr><tr><td class = \"rowNumber\" style = \"font-weight: bold; text-align: right;\">10</td><td style = \"text-align: left;\">MidCentral</td><td style = \"text-align: right;\">2011</td><td style = \"text-align: left;\">Male</td><td style = \"text-align: left;\">Bladder</td><td style = \"text-align: right;\">10</td><td style = \"text-align: right;\">7.7</td><td style = \"text-align: left;\">Male</td></tr><tr><td class = \"rowNumber\" style = \"font-weight: bold; text-align: right;\">11</td><td style = \"text-align: left;\">Nelson Marlborough</td><td style = \"text-align: right;\">2011</td><td style = \"text-align: left;\">Male</td><td style = \"text-align: left;\">Bladder</td><td style = \"text-align: right;\">9</td><td style = \"text-align: right;\">6.6</td><td style = \"text-align: left;\">Male</td></tr><tr><td class = \"rowNumber\" style = \"font-weight: bold; text-align: right;\">12</td><td style = \"text-align: left;\">Northland</td><td style = \"text-align: right;\">2011</td><td style = \"text-align: left;\">Male</td><td style = \"text-align: left;\">Bladder</td><td style = \"text-align: right;\">10</td><td style = \"text-align: right;\">6.7</td><td style = \"text-align: left;\">Male</td></tr><tr><td class = \"rowNumber\" style = \"font-weight: bold; text-align: right;\">13</td><td style = \"text-align: left;\">South Canterbury</td><td style = \"text-align: right;\">2011</td><td style = \"text-align: left;\">Male</td><td style = \"text-align: left;\">Bladder</td><td style = \"text-align: right;\">5</td><td style = \"text-align: right;\">0.0</td><td style = \"text-align: left;\">Male</td></tr><tr><td style = \"text-align: right;\">&vellip;</td><td style = \"text-align: right;\">&vellip;</td><td style = \"text-align: right;\">&vellip;</td><td style = \"text-align: right;\">&vellip;</td><td style = \"text-align: right;\">&vellip;</td><td style = \"text-align: right;\">&vellip;</td><td style = \"text-align: right;\">&vellip;</td><td style = \"text-align: right;\">&vellip;</td></tr><tr><td class = \"rowNumber\" style = \"font-weight: bold; text-align: right;\">2929</td><td style = \"text-align: left;\">MidCentral</td><td style = \"text-align: right;\">2020</td><td style = \"text-align: left;\">AllSex</td><td style = \"text-align: left;\">Pancreas</td><td style = \"text-align: right;\">31</td><td style = \"text-align: right;\">8.1</td><td style = \"text-align: left;\">AllSex</td></tr><tr><td class = \"rowNumber\" style = \"font-weight: bold; text-align: right;\">2930</td><td style = \"text-align: left;\">Nelson Marlborough</td><td style = \"text-align: right;\">2020</td><td style = \"text-align: left;\">AllSex</td><td style = \"text-align: left;\">Pancreas</td><td style = \"text-align: right;\">22</td><td style = \"text-align: right;\">6.1</td><td style = \"text-align: left;\">AllSex</td></tr><tr><td class = \"rowNumber\" style = \"font-weight: bold; text-align: right;\">2931</td><td style = \"text-align: left;\">Northland</td><td style = \"text-align: right;\">2020</td><td style = \"text-align: left;\">AllSex</td><td style = \"text-align: left;\">Pancreas</td><td style = \"text-align: right;\">33</td><td style = \"text-align: right;\">7.9</td><td style = \"text-align: left;\">AllSex</td></tr><tr><td class = \"rowNumber\" style = \"font-weight: bold; text-align: right;\">2932</td><td style = \"text-align: left;\">South Canterbury</td><td style = \"text-align: right;\">2020</td><td style = \"text-align: left;\">AllSex</td><td style = \"text-align: left;\">Pancreas</td><td style = \"text-align: right;\">11</td><td style = \"text-align: right;\">8.0</td><td style = \"text-align: left;\">AllSex</td></tr><tr><td class = \"rowNumber\" style = \"font-weight: bold; text-align: right;\">2933</td><td style = \"text-align: left;\">Southern</td><td style = \"text-align: right;\">2020</td><td style = \"text-align: left;\">AllSex</td><td style = \"text-align: left;\">Pancreas</td><td style = \"text-align: right;\">70</td><td style = \"text-align: right;\">10.3</td><td style = \"text-align: left;\">AllSex</td></tr><tr><td class = \"rowNumber\" style = \"font-weight: bold; text-align: right;\">2934</td><td style = \"text-align: left;\">Tairawhiti</td><td style = \"text-align: right;\">2020</td><td style = \"text-align: left;\">AllSex</td><td style = \"text-align: left;\">Pancreas</td><td style = \"text-align: right;\">7</td><td style = \"text-align: right;\">7.6</td><td style = \"text-align: left;\">AllSex</td></tr><tr><td class = \"rowNumber\" style = \"font-weight: bold; text-align: right;\">2935</td><td style = \"text-align: left;\">Taranaki</td><td style = \"text-align: right;\">2020</td><td style = \"text-align: left;\">AllSex</td><td style = \"text-align: left;\">Pancreas</td><td style = \"text-align: right;\">27</td><td style = \"text-align: right;\">11.3</td><td style = \"text-align: left;\">AllSex</td></tr><tr><td class = \"rowNumber\" style = \"font-weight: bold; text-align: right;\">2936</td><td style = \"text-align: left;\">Waikato</td><td style = \"text-align: right;\">2020</td><td style = \"text-align: left;\">AllSex</td><td style = \"text-align: left;\">Pancreas</td><td style = \"text-align: right;\">95</td><td style = \"text-align: right;\">11.8</td><td style = \"text-align: left;\">AllSex</td></tr><tr><td class = \"rowNumber\" style = \"font-weight: bold; text-align: right;\">2937</td><td style = \"text-align: left;\">Wairarapa</td><td style = \"text-align: right;\">2020</td><td style = \"text-align: left;\">AllSex</td><td style = \"text-align: left;\">Pancreas</td><td style = \"text-align: right;\">16</td><td style = \"text-align: right;\">16.0</td><td style = \"text-align: left;\">AllSex</td></tr><tr><td class = \"rowNumber\" style = \"font-weight: bold; text-align: right;\">2938</td><td style = \"text-align: left;\">Waitemata</td><td style = \"text-align: right;\">2020</td><td style = \"text-align: left;\">AllSex</td><td style = \"text-align: left;\">Pancreas</td><td style = \"text-align: right;\">77</td><td style = \"text-align: right;\">7.2</td><td style = \"text-align: left;\">AllSex</td></tr><tr><td class = \"rowNumber\" style = \"font-weight: bold; text-align: right;\">2939</td><td style = \"text-align: left;\">West Coast</td><td style = \"text-align: right;\">2020</td><td style = \"text-align: left;\">AllSex</td><td style = \"text-align: left;\">Pancreas</td><td style = \"text-align: right;\">7</td><td style = \"text-align: right;\">8.0</td><td style = \"text-align: left;\">AllSex</td></tr><tr><td class = \"rowNumber\" style = \"font-weight: bold; text-align: right;\">2940</td><td style = \"text-align: left;\">Whanganui</td><td style = \"text-align: right;\">2020</td><td style = \"text-align: left;\">AllSex</td><td style = \"text-align: left;\">Pancreas</td><td style = \"text-align: right;\">17</td><td style = \"text-align: right;\">11.2</td><td style = \"text-align: left;\">AllSex</td></tr></tbody></table></div>"
      ],
      "text/latex": [
       "\\begin{tabular}{r|ccccccc}\n",
       "\t& DHB & year & sex & cancer & incidence\\_num & incidence\\_rate & group\\\\\n",
       "\t\\hline\n",
       "\t& String & Int64 & String & String & Int64 & Float64 & String\\\\\n",
       "\t\\hline\n",
       "\t1 & All New Zealand & 2011 & Male & Bladder & 234 & 7.3 & Male \\\\\n",
       "\t2 & Auckland & 2011 & Male & Bladder & 17 & 6.7 & Male \\\\\n",
       "\t3 & Bay of Plenty & 2011 & Male & Bladder & 14 & 6.9 & Male \\\\\n",
       "\t4 & Canterbury & 2011 & Male & Bladder & 32 & 8.1 & Male \\\\\n",
       "\t5 & Capital \\& Coast & 2011 & Male & Bladder & 13 & 7.5 & Male \\\\\n",
       "\t6 & Counties Manukau & 2011 & Male & Bladder & 14 & 5.2 & Male \\\\\n",
       "\t7 & Hawke's Bay & 2011 & Male & Bladder & 14 & 11.5 & Male \\\\\n",
       "\t8 & Hutt Valley & 2011 & Male & Bladder & 10 & 9.8 & Male \\\\\n",
       "\t9 & Lakes & 2011 & Male & Bladder & 5 & 0.0 & Male \\\\\n",
       "\t10 & MidCentral & 2011 & Male & Bladder & 10 & 7.7 & Male \\\\\n",
       "\t11 & Nelson Marlborough & 2011 & Male & Bladder & 9 & 6.6 & Male \\\\\n",
       "\t12 & Northland & 2011 & Male & Bladder & 10 & 6.7 & Male \\\\\n",
       "\t13 & South Canterbury & 2011 & Male & Bladder & 5 & 0.0 & Male \\\\\n",
       "\t14 & Southern & 2011 & Male & Bladder & 15 & 5.8 & Male \\\\\n",
       "\t15 & Tairawhiti & 2011 & Male & Bladder & 2 & 0.0 & Male \\\\\n",
       "\t16 & Taranaki & 2011 & Male & Bladder & 5 & 0.0 & Male \\\\\n",
       "\t17 & Waikato & 2011 & Male & Bladder & 18 & 6.5 & Male \\\\\n",
       "\t18 & Wairarapa & 2011 & Male & Bladder & 1 & 0.0 & Male \\\\\n",
       "\t19 & Waitemata & 2011 & Male & Bladder & 30 & 8.4 & Male \\\\\n",
       "\t20 & West Coast & 2011 & Male & Bladder & 3 & 0.0 & Male \\\\\n",
       "\t21 & Whanganui & 2011 & Male & Bladder & 7 & 14.4 & Male \\\\\n",
       "\t22 & All New Zealand & 2011 & Male & Kidney & 346 & 11.7 & Male \\\\\n",
       "\t23 & Auckland & 2011 & Male & Kidney & 23 & 9.0 & Male \\\\\n",
       "\t24 & Bay of Plenty & 2011 & Male & Kidney & 16 & 8.7 & Male \\\\\n",
       "\t25 & Canterbury & 2011 & Male & Kidney & 54 & 15.1 & Male \\\\\n",
       "\t26 & Capital \\& Coast & 2011 & Male & Kidney & 18 & 10.7 & Male \\\\\n",
       "\t27 & Counties Manukau & 2011 & Male & Kidney & 28 & 10.3 & Male \\\\\n",
       "\t28 & Hawke's Bay & 2011 & Male & Kidney & 11 & 9.0 & Male \\\\\n",
       "\t29 & Hutt Valley & 2011 & Male & Kidney & 8 & 9.4 & Male \\\\\n",
       "\t30 & Lakes & 2011 & Male & Kidney & 8 & 11.1 & Male \\\\\n",
       "\t$\\dots$ & $\\dots$ & $\\dots$ & $\\dots$ & $\\dots$ & $\\dots$ & $\\dots$ & $\\dots$ \\\\\n",
       "\\end{tabular}\n"
      ],
      "text/plain": [
       "\u001b[1m2940×7 DataFrame\u001b[0m\n",
       "\u001b[1m  Row \u001b[0m│\u001b[1m DHB                \u001b[0m\u001b[1m year  \u001b[0m\u001b[1m sex    \u001b[0m\u001b[1m cancer   \u001b[0m\u001b[1m incidence_num \u001b[0m\u001b[1m incidence_\u001b[0m ⋯\n",
       "      │\u001b[90m String             \u001b[0m\u001b[90m Int64 \u001b[0m\u001b[90m String \u001b[0m\u001b[90m String   \u001b[0m\u001b[90m Int64         \u001b[0m\u001b[90m Float64   \u001b[0m ⋯\n",
       "──────┼─────────────────────────────────────────────────────────────────────────\n",
       "    1 │ All New Zealand      2011  Male    Bladder             234             ⋯\n",
       "    2 │ Auckland             2011  Male    Bladder              17\n",
       "    3 │ Bay of Plenty        2011  Male    Bladder              14\n",
       "    4 │ Canterbury           2011  Male    Bladder              32\n",
       "    5 │ Capital & Coast      2011  Male    Bladder              13             ⋯\n",
       "    6 │ Counties Manukau     2011  Male    Bladder              14\n",
       "    7 │ Hawke's Bay          2011  Male    Bladder              14\n",
       "    8 │ Hutt Valley          2011  Male    Bladder              10\n",
       "    9 │ Lakes                2011  Male    Bladder               5             ⋯\n",
       "   10 │ MidCentral           2011  Male    Bladder              10\n",
       "   11 │ Nelson Marlborough   2011  Male    Bladder               9\n",
       "  ⋮   │         ⋮             ⋮      ⋮        ⋮            ⋮              ⋮    ⋱\n",
       " 2931 │ Northland            2020  AllSex  Pancreas             33\n",
       " 2932 │ South Canterbury     2020  AllSex  Pancreas             11             ⋯\n",
       " 2933 │ Southern             2020  AllSex  Pancreas             70\n",
       " 2934 │ Tairawhiti           2020  AllSex  Pancreas              7\n",
       " 2935 │ Taranaki             2020  AllSex  Pancreas             27\n",
       " 2936 │ Waikato              2020  AllSex  Pancreas             95             ⋯\n",
       " 2937 │ Wairarapa            2020  AllSex  Pancreas             16\n",
       " 2938 │ Waitemata            2020  AllSex  Pancreas             77\n",
       " 2939 │ West Coast           2020  AllSex  Pancreas              7\n",
       " 2940 │ Whanganui            2020  AllSex  Pancreas             17             ⋯\n",
       "\u001b[36m                                                 2 columns and 2919 rows omitted\u001b[0m"
      ]
     },
     "execution_count": 2,
     "metadata": {},
     "output_type": "execute_result"
    }
   ],
   "source": [
    "# Filter incidence based on sex\n",
    "incidence_cancer_sex = incidence[incidence[:,:DHB] .== \"All New Zealand\", :]\n",
    "grouped_incidence = groupby(incidence_cancer_sex, [:year, :cancer, :sex])\n",
    "rate_mean = combine(grouped_incidence, :incidence_rate => (x -> mean(skipmissing(x))) => :rate_mean)\n",
    "incidence_wider = unstack(rate_mean, :sex, :rate_mean)\n",
    "incidence_sex_filtered = filter(row -> !(ismissing(row[:Male]) && ismissing(row[:Female])), incidence_wider)\n",
    "\n",
    "group = map(eachrow(incidence_sex_filtered)) do row\n",
    "    if ismissing(row[:Male]) && !ismissing(row[:Female])\n",
    "        \"Female\"\n",
    "    elseif !ismissing(row[:Male]) && ismissing(row[:Female])\n",
    "        \"Male\"\n",
    "    else\n",
    "        \"AllSex\"\n",
    "    end\n",
    "end\n",
    "\n",
    "incidence_sex_filtered[!, :group]= group\n",
    "select!(incidence_sex_filtered, :cancer, :group)\n",
    "unique!(incidence_sex_filtered)\n",
    "\n",
    "incidence_sex_filtered = innerjoin(incidence, incidence_sex_filtered, on = [:cancer, :sex => :group])\n",
    "incidence_sex_filtered[:,:group] = incidence_sex_filtered.sex\n",
    "\n",
    "incidence_sex_filtered"
   ]
  },
  {
   "cell_type": "code",
   "execution_count": 3,
   "id": "b0508e0a-fd92-4bc8-81ab-03c1e480c657",
   "metadata": {
    "tags": []
   },
   "outputs": [
    {
     "data": {
      "text/html": [
       "<div><div style = \"float: left;\"><span>6300×6 DataFrame</span></div><div style = \"float: right;\"><span style = \"font-style: italic;\">6275 rows omitted</span></div><div style = \"clear: both;\"></div></div><div class = \"data-frame\" style = \"overflow-x: scroll;\"><table class = \"data-frame\" style = \"margin-bottom: 6px;\"><thead><tr class = \"header\"><th class = \"rowNumber\" style = \"font-weight: bold; text-align: right;\">Row</th><th style = \"text-align: left;\">DHB</th><th style = \"text-align: left;\">year</th><th style = \"text-align: left;\">sex</th><th style = \"text-align: left;\">cancer</th><th style = \"text-align: left;\">mortality_num</th><th style = \"text-align: left;\">mortality_rate</th></tr><tr class = \"subheader headerLastRow\"><th class = \"rowNumber\" style = \"font-weight: bold; text-align: right;\"></th><th title = \"String\" style = \"text-align: left;\">String</th><th title = \"Int64\" style = \"text-align: left;\">Int64</th><th title = \"String\" style = \"text-align: left;\">String</th><th title = \"String\" style = \"text-align: left;\">String</th><th title = \"Int64\" style = \"text-align: left;\">Int64</th><th title = \"Float64\" style = \"text-align: left;\">Float64</th></tr></thead><tbody><tr><td class = \"rowNumber\" style = \"font-weight: bold; text-align: right;\">1</td><td style = \"text-align: left;\">All New Zealand</td><td style = \"text-align: right;\">2011</td><td style = \"text-align: left;\">Male</td><td style = \"text-align: left;\">Brain</td><td style = \"text-align: right;\">135</td><td style = \"text-align: right;\">4.9</td></tr><tr><td class = \"rowNumber\" style = \"font-weight: bold; text-align: right;\">2</td><td style = \"text-align: left;\">Auckland</td><td style = \"text-align: right;\">2011</td><td style = \"text-align: left;\">Male</td><td style = \"text-align: left;\">Brain</td><td style = \"text-align: right;\">13</td><td style = \"text-align: right;\">5.2</td></tr><tr><td class = \"rowNumber\" style = \"font-weight: bold; text-align: right;\">3</td><td style = \"text-align: left;\">Bay of Plenty</td><td style = \"text-align: right;\">2011</td><td style = \"text-align: left;\">Male</td><td style = \"text-align: left;\">Brain</td><td style = \"text-align: right;\">7</td><td style = \"text-align: right;\">5.5</td></tr><tr><td class = \"rowNumber\" style = \"font-weight: bold; text-align: right;\">4</td><td style = \"text-align: left;\">Canterbury</td><td style = \"text-align: right;\">2011</td><td style = \"text-align: left;\">Male</td><td style = \"text-align: left;\">Brain</td><td style = \"text-align: right;\">19</td><td style = \"text-align: right;\">5.7</td></tr><tr><td class = \"rowNumber\" style = \"font-weight: bold; text-align: right;\">5</td><td style = \"text-align: left;\">Capital &amp; Coast</td><td style = \"text-align: right;\">2011</td><td style = \"text-align: left;\">Male</td><td style = \"text-align: left;\">Brain</td><td style = \"text-align: right;\">6</td><td style = \"text-align: right;\">3.6</td></tr><tr><td class = \"rowNumber\" style = \"font-weight: bold; text-align: right;\">6</td><td style = \"text-align: left;\">Counties Manukau</td><td style = \"text-align: right;\">2011</td><td style = \"text-align: left;\">Male</td><td style = \"text-align: left;\">Brain</td><td style = \"text-align: right;\">10</td><td style = \"text-align: right;\">4.1</td></tr><tr><td class = \"rowNumber\" style = \"font-weight: bold; text-align: right;\">7</td><td style = \"text-align: left;\">Hawke&apos;s Bay</td><td style = \"text-align: right;\">2011</td><td style = \"text-align: left;\">Male</td><td style = \"text-align: left;\">Brain</td><td style = \"text-align: right;\">4</td><td style = \"text-align: right;\">0.0</td></tr><tr><td class = \"rowNumber\" style = \"font-weight: bold; text-align: right;\">8</td><td style = \"text-align: left;\">Hutt Valley</td><td style = \"text-align: right;\">2011</td><td style = \"text-align: left;\">Male</td><td style = \"text-align: left;\">Brain</td><td style = \"text-align: right;\">4</td><td style = \"text-align: right;\">0.0</td></tr><tr><td class = \"rowNumber\" style = \"font-weight: bold; text-align: right;\">9</td><td style = \"text-align: left;\">Lakes</td><td style = \"text-align: right;\">2011</td><td style = \"text-align: left;\">Male</td><td style = \"text-align: left;\">Brain</td><td style = \"text-align: right;\">3</td><td style = \"text-align: right;\">0.0</td></tr><tr><td class = \"rowNumber\" style = \"font-weight: bold; text-align: right;\">10</td><td style = \"text-align: left;\">MidCentral</td><td style = \"text-align: right;\">2011</td><td style = \"text-align: left;\">Male</td><td style = \"text-align: left;\">Brain</td><td style = \"text-align: right;\">4</td><td style = \"text-align: right;\">0.0</td></tr><tr><td class = \"rowNumber\" style = \"font-weight: bold; text-align: right;\">11</td><td style = \"text-align: left;\">Nelson Marlborough</td><td style = \"text-align: right;\">2011</td><td style = \"text-align: left;\">Male</td><td style = \"text-align: left;\">Brain</td><td style = \"text-align: right;\">8</td><td style = \"text-align: right;\">9.8</td></tr><tr><td class = \"rowNumber\" style = \"font-weight: bold; text-align: right;\">12</td><td style = \"text-align: left;\">Northland</td><td style = \"text-align: right;\">2011</td><td style = \"text-align: left;\">Male</td><td style = \"text-align: left;\">Brain</td><td style = \"text-align: right;\">5</td><td style = \"text-align: right;\">0.0</td></tr><tr><td class = \"rowNumber\" style = \"font-weight: bold; text-align: right;\">13</td><td style = \"text-align: left;\">South Canterbury</td><td style = \"text-align: right;\">2011</td><td style = \"text-align: left;\">Male</td><td style = \"text-align: left;\">Brain</td><td style = \"text-align: right;\">4</td><td style = \"text-align: right;\">0.0</td></tr><tr><td style = \"text-align: right;\">&vellip;</td><td style = \"text-align: right;\">&vellip;</td><td style = \"text-align: right;\">&vellip;</td><td style = \"text-align: right;\">&vellip;</td><td style = \"text-align: right;\">&vellip;</td><td style = \"text-align: right;\">&vellip;</td><td style = \"text-align: right;\">&vellip;</td></tr><tr><td class = \"rowNumber\" style = \"font-weight: bold; text-align: right;\">6289</td><td style = \"text-align: left;\">Wairarapa</td><td style = \"text-align: right;\">2020</td><td style = \"text-align: left;\">AllSex</td><td style = \"text-align: left;\">Unspecified site</td><td style = \"text-align: right;\">2</td><td style = \"text-align: right;\">0.0</td></tr><tr><td class = \"rowNumber\" style = \"font-weight: bold; text-align: right;\">6290</td><td style = \"text-align: left;\">Waitemata</td><td style = \"text-align: right;\">2020</td><td style = \"text-align: left;\">AllSex</td><td style = \"text-align: left;\">Unspecified site</td><td style = \"text-align: right;\">21</td><td style = \"text-align: right;\">1.9</td></tr><tr><td class = \"rowNumber\" style = \"font-weight: bold; text-align: right;\">6291</td><td style = \"text-align: left;\">West Coast</td><td style = \"text-align: right;\">2020</td><td style = \"text-align: left;\">AllSex</td><td style = \"text-align: left;\">Unspecified site</td><td style = \"text-align: right;\">2</td><td style = \"text-align: right;\">0.0</td></tr><tr><td class = \"rowNumber\" style = \"font-weight: bold; text-align: right;\">6292</td><td style = \"text-align: left;\">Whanganui</td><td style = \"text-align: right;\">2020</td><td style = \"text-align: left;\">AllSex</td><td style = \"text-align: left;\">Unspecified site</td><td style = \"text-align: right;\">6</td><td style = \"text-align: right;\">3.8</td></tr><tr><td class = \"rowNumber\" style = \"font-weight: bold; text-align: right;\">6293</td><td style = \"text-align: left;\">Tairawhiti</td><td style = \"text-align: right;\">2011</td><td style = \"text-align: left;\">AllSex</td><td style = \"text-align: left;\">Liver</td><td style = \"text-align: right;\">0</td><td style = \"text-align: right;\">0.0</td></tr><tr><td class = \"rowNumber\" style = \"font-weight: bold; text-align: right;\">6294</td><td style = \"text-align: left;\">Tairawhiti</td><td style = \"text-align: right;\">2012</td><td style = \"text-align: left;\">AllSex</td><td style = \"text-align: left;\">Non-Hodgkin lymphoma</td><td style = \"text-align: right;\">0</td><td style = \"text-align: right;\">0.0</td></tr><tr><td class = \"rowNumber\" style = \"font-weight: bold; text-align: right;\">6295</td><td style = \"text-align: left;\">West Coast</td><td style = \"text-align: right;\">2012</td><td style = \"text-align: left;\">AllSex</td><td style = \"text-align: left;\">Leukaemia</td><td style = \"text-align: right;\">0</td><td style = \"text-align: right;\">0.0</td></tr><tr><td class = \"rowNumber\" style = \"font-weight: bold; text-align: right;\">6296</td><td style = \"text-align: left;\">West Coast</td><td style = \"text-align: right;\">2015</td><td style = \"text-align: left;\">AllSex</td><td style = \"text-align: left;\">Brain</td><td style = \"text-align: right;\">0</td><td style = \"text-align: right;\">0.0</td></tr><tr><td class = \"rowNumber\" style = \"font-weight: bold; text-align: right;\">6297</td><td style = \"text-align: left;\">Wairarapa</td><td style = \"text-align: right;\">2016</td><td style = \"text-align: left;\">AllSex</td><td style = \"text-align: left;\">Leukaemia</td><td style = \"text-align: right;\">0</td><td style = \"text-align: right;\">0.0</td></tr><tr><td class = \"rowNumber\" style = \"font-weight: bold; text-align: right;\">6298</td><td style = \"text-align: left;\">Tairawhiti</td><td style = \"text-align: right;\">2018</td><td style = \"text-align: left;\">AllSex</td><td style = \"text-align: left;\">Leukaemia</td><td style = \"text-align: right;\">0</td><td style = \"text-align: right;\">0.0</td></tr><tr><td class = \"rowNumber\" style = \"font-weight: bold; text-align: right;\">6299</td><td style = \"text-align: left;\">West Coast</td><td style = \"text-align: right;\">2019</td><td style = \"text-align: left;\">AllSex</td><td style = \"text-align: left;\">Brain</td><td style = \"text-align: right;\">0</td><td style = \"text-align: right;\">0.0</td></tr><tr><td class = \"rowNumber\" style = \"font-weight: bold; text-align: right;\">6300</td><td style = \"text-align: left;\">Tairawhiti</td><td style = \"text-align: right;\">2020</td><td style = \"text-align: left;\">AllSex</td><td style = \"text-align: left;\">Leukaemia</td><td style = \"text-align: right;\">0</td><td style = \"text-align: right;\">0.0</td></tr></tbody></table></div>"
      ],
      "text/latex": [
       "\\begin{tabular}{r|cccccc}\n",
       "\t& DHB & year & sex & cancer & mortality\\_num & mortality\\_rate\\\\\n",
       "\t\\hline\n",
       "\t& String & Int64 & String & String & Int64 & Float64\\\\\n",
       "\t\\hline\n",
       "\t1 & All New Zealand & 2011 & Male & Brain & 135 & 4.9 \\\\\n",
       "\t2 & Auckland & 2011 & Male & Brain & 13 & 5.2 \\\\\n",
       "\t3 & Bay of Plenty & 2011 & Male & Brain & 7 & 5.5 \\\\\n",
       "\t4 & Canterbury & 2011 & Male & Brain & 19 & 5.7 \\\\\n",
       "\t5 & Capital \\& Coast & 2011 & Male & Brain & 6 & 3.6 \\\\\n",
       "\t6 & Counties Manukau & 2011 & Male & Brain & 10 & 4.1 \\\\\n",
       "\t7 & Hawke's Bay & 2011 & Male & Brain & 4 & 0.0 \\\\\n",
       "\t8 & Hutt Valley & 2011 & Male & Brain & 4 & 0.0 \\\\\n",
       "\t9 & Lakes & 2011 & Male & Brain & 3 & 0.0 \\\\\n",
       "\t10 & MidCentral & 2011 & Male & Brain & 4 & 0.0 \\\\\n",
       "\t11 & Nelson Marlborough & 2011 & Male & Brain & 8 & 9.8 \\\\\n",
       "\t12 & Northland & 2011 & Male & Brain & 5 & 0.0 \\\\\n",
       "\t13 & South Canterbury & 2011 & Male & Brain & 4 & 0.0 \\\\\n",
       "\t14 & Southern & 2011 & Male & Brain & 6 & 2.5 \\\\\n",
       "\t15 & Tairawhiti & 2011 & Male & Brain & 3 & 0.0 \\\\\n",
       "\t16 & Taranaki & 2011 & Male & Brain & 4 & 0.0 \\\\\n",
       "\t17 & Waikato & 2011 & Male & Brain & 17 & 6.7 \\\\\n",
       "\t18 & Wairarapa & 2011 & Male & Brain & 2 & 0.0 \\\\\n",
       "\t19 & Waitemata & 2011 & Male & Brain & 14 & 4.5 \\\\\n",
       "\t20 & Whanganui & 2011 & Male & Brain & 2 & 0.0 \\\\\n",
       "\t21 & All New Zealand & 2011 & Male & Colorectal & 590 & 18.3 \\\\\n",
       "\t22 & Auckland & 2011 & Male & Colorectal & 38 & 14.9 \\\\\n",
       "\t23 & Bay of Plenty & 2011 & Male & Colorectal & 39 & 19.9 \\\\\n",
       "\t24 & Canterbury & 2011 & Male & Colorectal & 70 & 17.9 \\\\\n",
       "\t25 & Capital \\& Coast & 2011 & Male & Colorectal & 30 & 15.8 \\\\\n",
       "\t26 & Counties Manukau & 2011 & Male & Colorectal & 44 & 16.2 \\\\\n",
       "\t27 & Hawke's Bay & 2011 & Male & Colorectal & 23 & 17.3 \\\\\n",
       "\t28 & Hutt Valley & 2011 & Male & Colorectal & 24 & 24.0 \\\\\n",
       "\t29 & Lakes & 2011 & Male & Colorectal & 15 & 20.9 \\\\\n",
       "\t30 & MidCentral & 2011 & Male & Colorectal & 28 & 20.2 \\\\\n",
       "\t$\\dots$ & $\\dots$ & $\\dots$ & $\\dots$ & $\\dots$ & $\\dots$ & $\\dots$ \\\\\n",
       "\\end{tabular}\n"
      ],
      "text/plain": [
       "\u001b[1m6300×6 DataFrame\u001b[0m\n",
       "\u001b[1m  Row \u001b[0m│\u001b[1m DHB                \u001b[0m\u001b[1m year  \u001b[0m\u001b[1m sex    \u001b[0m\u001b[1m cancer               \u001b[0m\u001b[1m mortality_num\u001b[0m ⋯\n",
       "      │\u001b[90m String             \u001b[0m\u001b[90m Int64 \u001b[0m\u001b[90m String \u001b[0m\u001b[90m String               \u001b[0m\u001b[90m Int64        \u001b[0m ⋯\n",
       "──────┼─────────────────────────────────────────────────────────────────────────\n",
       "    1 │ All New Zealand      2011  Male    Brain                           135 ⋯\n",
       "    2 │ Auckland             2011  Male    Brain                            13\n",
       "    3 │ Bay of Plenty        2011  Male    Brain                             7\n",
       "    4 │ Canterbury           2011  Male    Brain                            19\n",
       "    5 │ Capital & Coast      2011  Male    Brain                             6 ⋯\n",
       "    6 │ Counties Manukau     2011  Male    Brain                            10\n",
       "    7 │ Hawke's Bay          2011  Male    Brain                             4\n",
       "    8 │ Hutt Valley          2011  Male    Brain                             4\n",
       "    9 │ Lakes                2011  Male    Brain                             3 ⋯\n",
       "   10 │ MidCentral           2011  Male    Brain                             4\n",
       "   11 │ Nelson Marlborough   2011  Male    Brain                             8\n",
       "  ⋮   │         ⋮             ⋮      ⋮              ⋮                  ⋮       ⋱\n",
       " 6291 │ West Coast           2020  AllSex  Unspecified site                  2\n",
       " 6292 │ Whanganui            2020  AllSex  Unspecified site                  6 ⋯\n",
       " 6293 │ Tairawhiti           2011  AllSex  Liver                             0\n",
       " 6294 │ Tairawhiti           2012  AllSex  Non-Hodgkin lymphoma              0\n",
       " 6295 │ West Coast           2012  AllSex  Leukaemia                         0\n",
       " 6296 │ West Coast           2015  AllSex  Brain                             0 ⋯\n",
       " 6297 │ Wairarapa            2016  AllSex  Leukaemia                         0\n",
       " 6298 │ Tairawhiti           2018  AllSex  Leukaemia                         0\n",
       " 6299 │ West Coast           2019  AllSex  Brain                             0\n",
       " 6300 │ Tairawhiti           2020  AllSex  Leukaemia                         0 ⋯\n",
       "\u001b[36m                                                  1 column and 6279 rows omitted\u001b[0m"
      ]
     },
     "execution_count": 3,
     "metadata": {},
     "output_type": "execute_result"
    }
   ],
   "source": [
    "#### 2.1.2 Mortality ####\n",
    "\n",
    "# Load data\n",
    "mortality = CSV.File(\"D:/cancer-deaths-by-dhb.csv\") |> DataFrame\n",
    "\n",
    "# Process character data\n",
    "mortality = mortality[(mortality.DHB .!= \"Overseas and undefined\") .& (mortality.\"Cancer type\" .!=\"Unspecified site\"), :]\n",
    "mortality[!, :cancer] .= replace.(mortality[!, :\"Cancer type\"], r\"\\s\\([^)]+\\)\" .=> \"\")\n",
    "\n",
    "# Rename column names\n",
    "rename!(mortality, :Year => :year, :Sex => :sex, :Number => :mortality_num, :Rate => :mortality_rate)\n",
    "\n",
    "# Pre-process for data format\n",
    "mortality = select(mortality, [:DHB, :year, :sex, :cancer, :mortality_num, :mortality_rate])\n",
    "mortality[!, :mortality_rate] .= replace.(mortality[!, :mortality_rate], \"S\" => \"0\")\n",
    "mortality[!, :mortality_rate] .= parse.(Float64, mortality[!, :mortality_rate])\n",
    "mortality"
   ]
  },
  {
   "cell_type": "code",
   "execution_count": 4,
   "id": "f3aeef17-4a75-4203-b33d-962c446be71e",
   "metadata": {
    "tags": []
   },
   "outputs": [
    {
     "data": {
      "text/html": [
       "<div><div style = \"float: left;\"><span>2940×7 DataFrame</span></div><div style = \"float: right;\"><span style = \"font-style: italic;\">2915 rows omitted</span></div><div style = \"clear: both;\"></div></div><div class = \"data-frame\" style = \"overflow-x: scroll;\"><table class = \"data-frame\" style = \"margin-bottom: 6px;\"><thead><tr class = \"header\"><th class = \"rowNumber\" style = \"font-weight: bold; text-align: right;\">Row</th><th style = \"text-align: left;\">DHB</th><th style = \"text-align: left;\">year</th><th style = \"text-align: left;\">sex</th><th style = \"text-align: left;\">cancer</th><th style = \"text-align: left;\">mortality_num</th><th style = \"text-align: left;\">mortality_rate</th><th style = \"text-align: left;\">group</th></tr><tr class = \"subheader headerLastRow\"><th class = \"rowNumber\" style = \"font-weight: bold; text-align: right;\"></th><th title = \"String\" style = \"text-align: left;\">String</th><th title = \"Int64\" style = \"text-align: left;\">Int64</th><th title = \"String\" style = \"text-align: left;\">String</th><th title = \"String\" style = \"text-align: left;\">String</th><th title = \"Int64\" style = \"text-align: left;\">Int64</th><th title = \"Float64\" style = \"text-align: left;\">Float64</th><th title = \"String\" style = \"text-align: left;\">String</th></tr></thead><tbody><tr><td class = \"rowNumber\" style = \"font-weight: bold; text-align: right;\">1</td><td style = \"text-align: left;\">All New Zealand</td><td style = \"text-align: right;\">2011</td><td style = \"text-align: left;\">Male</td><td style = \"text-align: left;\">Liver</td><td style = \"text-align: right;\">164</td><td style = \"text-align: right;\">5.3</td><td style = \"text-align: left;\">Male</td></tr><tr><td class = \"rowNumber\" style = \"font-weight: bold; text-align: right;\">2</td><td style = \"text-align: left;\">Auckland</td><td style = \"text-align: right;\">2011</td><td style = \"text-align: left;\">Male</td><td style = \"text-align: left;\">Liver</td><td style = \"text-align: right;\">20</td><td style = \"text-align: right;\">8.0</td><td style = \"text-align: left;\">Male</td></tr><tr><td class = \"rowNumber\" style = \"font-weight: bold; text-align: right;\">3</td><td style = \"text-align: left;\">Bay of Plenty</td><td style = \"text-align: right;\">2011</td><td style = \"text-align: left;\">Male</td><td style = \"text-align: left;\">Liver</td><td style = \"text-align: right;\">12</td><td style = \"text-align: right;\">6.9</td><td style = \"text-align: left;\">Male</td></tr><tr><td class = \"rowNumber\" style = \"font-weight: bold; text-align: right;\">4</td><td style = \"text-align: left;\">Canterbury</td><td style = \"text-align: right;\">2011</td><td style = \"text-align: left;\">Male</td><td style = \"text-align: left;\">Liver</td><td style = \"text-align: right;\">16</td><td style = \"text-align: right;\">4.1</td><td style = \"text-align: left;\">Male</td></tr><tr><td class = \"rowNumber\" style = \"font-weight: bold; text-align: right;\">5</td><td style = \"text-align: left;\">Capital &amp; Coast</td><td style = \"text-align: right;\">2011</td><td style = \"text-align: left;\">Male</td><td style = \"text-align: left;\">Liver</td><td style = \"text-align: right;\">13</td><td style = \"text-align: right;\">7.3</td><td style = \"text-align: left;\">Male</td></tr><tr><td class = \"rowNumber\" style = \"font-weight: bold; text-align: right;\">6</td><td style = \"text-align: left;\">Counties Manukau</td><td style = \"text-align: right;\">2011</td><td style = \"text-align: left;\">Male</td><td style = \"text-align: left;\">Liver</td><td style = \"text-align: right;\">15</td><td style = \"text-align: right;\">5.6</td><td style = \"text-align: left;\">Male</td></tr><tr><td class = \"rowNumber\" style = \"font-weight: bold; text-align: right;\">7</td><td style = \"text-align: left;\">Hawke&apos;s Bay</td><td style = \"text-align: right;\">2011</td><td style = \"text-align: left;\">Male</td><td style = \"text-align: left;\">Liver</td><td style = \"text-align: right;\">6</td><td style = \"text-align: right;\">4.7</td><td style = \"text-align: left;\">Male</td></tr><tr><td class = \"rowNumber\" style = \"font-weight: bold; text-align: right;\">8</td><td style = \"text-align: left;\">Hutt Valley</td><td style = \"text-align: right;\">2011</td><td style = \"text-align: left;\">Male</td><td style = \"text-align: left;\">Liver</td><td style = \"text-align: right;\">5</td><td style = \"text-align: right;\">0.0</td><td style = \"text-align: left;\">Male</td></tr><tr><td class = \"rowNumber\" style = \"font-weight: bold; text-align: right;\">9</td><td style = \"text-align: left;\">Lakes</td><td style = \"text-align: right;\">2011</td><td style = \"text-align: left;\">Male</td><td style = \"text-align: left;\">Liver</td><td style = \"text-align: right;\">6</td><td style = \"text-align: right;\">8.8</td><td style = \"text-align: left;\">Male</td></tr><tr><td class = \"rowNumber\" style = \"font-weight: bold; text-align: right;\">10</td><td style = \"text-align: left;\">MidCentral</td><td style = \"text-align: right;\">2011</td><td style = \"text-align: left;\">Male</td><td style = \"text-align: left;\">Liver</td><td style = \"text-align: right;\">4</td><td style = \"text-align: right;\">0.0</td><td style = \"text-align: left;\">Male</td></tr><tr><td class = \"rowNumber\" style = \"font-weight: bold; text-align: right;\">11</td><td style = \"text-align: left;\">Nelson Marlborough</td><td style = \"text-align: right;\">2011</td><td style = \"text-align: left;\">Male</td><td style = \"text-align: left;\">Liver</td><td style = \"text-align: right;\">9</td><td style = \"text-align: right;\">6.9</td><td style = \"text-align: left;\">Male</td></tr><tr><td class = \"rowNumber\" style = \"font-weight: bold; text-align: right;\">12</td><td style = \"text-align: left;\">Northland</td><td style = \"text-align: right;\">2011</td><td style = \"text-align: left;\">Male</td><td style = \"text-align: left;\">Liver</td><td style = \"text-align: right;\">9</td><td style = \"text-align: right;\">6.8</td><td style = \"text-align: left;\">Male</td></tr><tr><td class = \"rowNumber\" style = \"font-weight: bold; text-align: right;\">13</td><td style = \"text-align: left;\">South Canterbury</td><td style = \"text-align: right;\">2011</td><td style = \"text-align: left;\">Male</td><td style = \"text-align: left;\">Liver</td><td style = \"text-align: right;\">3</td><td style = \"text-align: right;\">0.0</td><td style = \"text-align: left;\">Male</td></tr><tr><td style = \"text-align: right;\">&vellip;</td><td style = \"text-align: right;\">&vellip;</td><td style = \"text-align: right;\">&vellip;</td><td style = \"text-align: right;\">&vellip;</td><td style = \"text-align: right;\">&vellip;</td><td style = \"text-align: right;\">&vellip;</td><td style = \"text-align: right;\">&vellip;</td><td style = \"text-align: right;\">&vellip;</td></tr><tr><td class = \"rowNumber\" style = \"font-weight: bold; text-align: right;\">2929</td><td style = \"text-align: left;\">Waikato</td><td style = \"text-align: right;\">2020</td><td style = \"text-align: left;\">AllSex</td><td style = \"text-align: left;\">Pancreas</td><td style = \"text-align: right;\">68</td><td style = \"text-align: right;\">8.2</td><td style = \"text-align: left;\">AllSex</td></tr><tr><td class = \"rowNumber\" style = \"font-weight: bold; text-align: right;\">2930</td><td style = \"text-align: left;\">Wairarapa</td><td style = \"text-align: right;\">2020</td><td style = \"text-align: left;\">AllSex</td><td style = \"text-align: left;\">Pancreas</td><td style = \"text-align: right;\">7</td><td style = \"text-align: right;\">6.9</td><td style = \"text-align: left;\">AllSex</td></tr><tr><td class = \"rowNumber\" style = \"font-weight: bold; text-align: right;\">2931</td><td style = \"text-align: left;\">Waitemata</td><td style = \"text-align: right;\">2020</td><td style = \"text-align: left;\">AllSex</td><td style = \"text-align: left;\">Pancreas</td><td style = \"text-align: right;\">60</td><td style = \"text-align: right;\">5.5</td><td style = \"text-align: left;\">AllSex</td></tr><tr><td class = \"rowNumber\" style = \"font-weight: bold; text-align: right;\">2932</td><td style = \"text-align: left;\">West Coast</td><td style = \"text-align: right;\">2020</td><td style = \"text-align: left;\">AllSex</td><td style = \"text-align: left;\">Pancreas</td><td style = \"text-align: right;\">9</td><td style = \"text-align: right;\">10.6</td><td style = \"text-align: left;\">AllSex</td></tr><tr><td class = \"rowNumber\" style = \"font-weight: bold; text-align: right;\">2933</td><td style = \"text-align: left;\">Whanganui</td><td style = \"text-align: right;\">2020</td><td style = \"text-align: left;\">AllSex</td><td style = \"text-align: left;\">Pancreas</td><td style = \"text-align: right;\">13</td><td style = \"text-align: right;\">9.3</td><td style = \"text-align: left;\">AllSex</td></tr><tr><td class = \"rowNumber\" style = \"font-weight: bold; text-align: right;\">2934</td><td style = \"text-align: left;\">Tairawhiti</td><td style = \"text-align: right;\">2012</td><td style = \"text-align: left;\">AllSex</td><td style = \"text-align: left;\">Non-Hodgkin lymphoma</td><td style = \"text-align: right;\">0</td><td style = \"text-align: right;\">0.0</td><td style = \"text-align: left;\">AllSex</td></tr><tr><td class = \"rowNumber\" style = \"font-weight: bold; text-align: right;\">2935</td><td style = \"text-align: left;\">West Coast</td><td style = \"text-align: right;\">2012</td><td style = \"text-align: left;\">AllSex</td><td style = \"text-align: left;\">Leukaemia</td><td style = \"text-align: right;\">0</td><td style = \"text-align: right;\">0.0</td><td style = \"text-align: left;\">AllSex</td></tr><tr><td class = \"rowNumber\" style = \"font-weight: bold; text-align: right;\">2936</td><td style = \"text-align: left;\">West Coast</td><td style = \"text-align: right;\">2015</td><td style = \"text-align: left;\">AllSex</td><td style = \"text-align: left;\">Brain</td><td style = \"text-align: right;\">0</td><td style = \"text-align: right;\">0.0</td><td style = \"text-align: left;\">AllSex</td></tr><tr><td class = \"rowNumber\" style = \"font-weight: bold; text-align: right;\">2937</td><td style = \"text-align: left;\">Wairarapa</td><td style = \"text-align: right;\">2016</td><td style = \"text-align: left;\">AllSex</td><td style = \"text-align: left;\">Leukaemia</td><td style = \"text-align: right;\">0</td><td style = \"text-align: right;\">0.0</td><td style = \"text-align: left;\">AllSex</td></tr><tr><td class = \"rowNumber\" style = \"font-weight: bold; text-align: right;\">2938</td><td style = \"text-align: left;\">Tairawhiti</td><td style = \"text-align: right;\">2018</td><td style = \"text-align: left;\">AllSex</td><td style = \"text-align: left;\">Leukaemia</td><td style = \"text-align: right;\">0</td><td style = \"text-align: right;\">0.0</td><td style = \"text-align: left;\">AllSex</td></tr><tr><td class = \"rowNumber\" style = \"font-weight: bold; text-align: right;\">2939</td><td style = \"text-align: left;\">West Coast</td><td style = \"text-align: right;\">2019</td><td style = \"text-align: left;\">AllSex</td><td style = \"text-align: left;\">Brain</td><td style = \"text-align: right;\">0</td><td style = \"text-align: right;\">0.0</td><td style = \"text-align: left;\">AllSex</td></tr><tr><td class = \"rowNumber\" style = \"font-weight: bold; text-align: right;\">2940</td><td style = \"text-align: left;\">Tairawhiti</td><td style = \"text-align: right;\">2020</td><td style = \"text-align: left;\">AllSex</td><td style = \"text-align: left;\">Leukaemia</td><td style = \"text-align: right;\">0</td><td style = \"text-align: right;\">0.0</td><td style = \"text-align: left;\">AllSex</td></tr></tbody></table></div>"
      ],
      "text/latex": [
       "\\begin{tabular}{r|ccccccc}\n",
       "\t& DHB & year & sex & cancer & mortality\\_num & mortality\\_rate & group\\\\\n",
       "\t\\hline\n",
       "\t& String & Int64 & String & String & Int64 & Float64 & String\\\\\n",
       "\t\\hline\n",
       "\t1 & All New Zealand & 2011 & Male & Liver & 164 & 5.3 & Male \\\\\n",
       "\t2 & Auckland & 2011 & Male & Liver & 20 & 8.0 & Male \\\\\n",
       "\t3 & Bay of Plenty & 2011 & Male & Liver & 12 & 6.9 & Male \\\\\n",
       "\t4 & Canterbury & 2011 & Male & Liver & 16 & 4.1 & Male \\\\\n",
       "\t5 & Capital \\& Coast & 2011 & Male & Liver & 13 & 7.3 & Male \\\\\n",
       "\t6 & Counties Manukau & 2011 & Male & Liver & 15 & 5.6 & Male \\\\\n",
       "\t7 & Hawke's Bay & 2011 & Male & Liver & 6 & 4.7 & Male \\\\\n",
       "\t8 & Hutt Valley & 2011 & Male & Liver & 5 & 0.0 & Male \\\\\n",
       "\t9 & Lakes & 2011 & Male & Liver & 6 & 8.8 & Male \\\\\n",
       "\t10 & MidCentral & 2011 & Male & Liver & 4 & 0.0 & Male \\\\\n",
       "\t11 & Nelson Marlborough & 2011 & Male & Liver & 9 & 6.9 & Male \\\\\n",
       "\t12 & Northland & 2011 & Male & Liver & 9 & 6.8 & Male \\\\\n",
       "\t13 & South Canterbury & 2011 & Male & Liver & 3 & 0.0 & Male \\\\\n",
       "\t14 & Southern & 2011 & Male & Liver & 11 & 4.7 & Male \\\\\n",
       "\t15 & Taranaki & 2011 & Male & Liver & 4 & 0.0 & Male \\\\\n",
       "\t16 & Waikato & 2011 & Male & Liver & 16 & 5.9 & Male \\\\\n",
       "\t17 & Wairarapa & 2011 & Male & Liver & 2 & 0.0 & Male \\\\\n",
       "\t18 & Waitemata & 2011 & Male & Liver & 10 & 2.8 & Male \\\\\n",
       "\t19 & West Coast & 2011 & Male & Liver & 2 & 0.0 & Male \\\\\n",
       "\t20 & Whanganui & 2011 & Male & Liver & 1 & 0.0 & Male \\\\\n",
       "\t21 & All New Zealand & 2011 & Male & Melanoma & 241 & 7.8 & Male \\\\\n",
       "\t22 & Auckland & 2011 & Male & Melanoma & 14 & 5.5 & Male \\\\\n",
       "\t23 & Bay of Plenty & 2011 & Male & Melanoma & 19 & 11.0 & Male \\\\\n",
       "\t24 & Canterbury & 2011 & Male & Melanoma & 31 & 7.9 & Male \\\\\n",
       "\t25 & Capital \\& Coast & 2011 & Male & Melanoma & 10 & 5.7 & Male \\\\\n",
       "\t26 & Counties Manukau & 2011 & Male & Melanoma & 18 & 6.7 & Male \\\\\n",
       "\t27 & Hawke's Bay & 2011 & Male & Melanoma & 7 & 5.3 & Male \\\\\n",
       "\t28 & Hutt Valley & 2011 & Male & Melanoma & 8 & 7.7 & Male \\\\\n",
       "\t29 & Lakes & 2011 & Male & Melanoma & 6 & 8.3 & Male \\\\\n",
       "\t30 & MidCentral & 2011 & Male & Melanoma & 12 & 11.2 & Male \\\\\n",
       "\t$\\dots$ & $\\dots$ & $\\dots$ & $\\dots$ & $\\dots$ & $\\dots$ & $\\dots$ & $\\dots$ \\\\\n",
       "\\end{tabular}\n"
      ],
      "text/plain": [
       "\u001b[1m2940×7 DataFrame\u001b[0m\n",
       "\u001b[1m  Row \u001b[0m│\u001b[1m DHB                \u001b[0m\u001b[1m year  \u001b[0m\u001b[1m sex    \u001b[0m\u001b[1m cancer               \u001b[0m\u001b[1m mortality_num\u001b[0m ⋯\n",
       "      │\u001b[90m String             \u001b[0m\u001b[90m Int64 \u001b[0m\u001b[90m String \u001b[0m\u001b[90m String               \u001b[0m\u001b[90m Int64        \u001b[0m ⋯\n",
       "──────┼─────────────────────────────────────────────────────────────────────────\n",
       "    1 │ All New Zealand      2011  Male    Liver                           164 ⋯\n",
       "    2 │ Auckland             2011  Male    Liver                            20\n",
       "    3 │ Bay of Plenty        2011  Male    Liver                            12\n",
       "    4 │ Canterbury           2011  Male    Liver                            16\n",
       "    5 │ Capital & Coast      2011  Male    Liver                            13 ⋯\n",
       "    6 │ Counties Manukau     2011  Male    Liver                            15\n",
       "    7 │ Hawke's Bay          2011  Male    Liver                             6\n",
       "    8 │ Hutt Valley          2011  Male    Liver                             5\n",
       "    9 │ Lakes                2011  Male    Liver                             6 ⋯\n",
       "   10 │ MidCentral           2011  Male    Liver                             4\n",
       "   11 │ Nelson Marlborough   2011  Male    Liver                             9\n",
       "  ⋮   │         ⋮             ⋮      ⋮              ⋮                  ⋮       ⋱\n",
       " 2931 │ Waitemata            2020  AllSex  Pancreas                         60\n",
       " 2932 │ West Coast           2020  AllSex  Pancreas                          9 ⋯\n",
       " 2933 │ Whanganui            2020  AllSex  Pancreas                         13\n",
       " 2934 │ Tairawhiti           2012  AllSex  Non-Hodgkin lymphoma              0\n",
       " 2935 │ West Coast           2012  AllSex  Leukaemia                         0\n",
       " 2936 │ West Coast           2015  AllSex  Brain                             0 ⋯\n",
       " 2937 │ Wairarapa            2016  AllSex  Leukaemia                         0\n",
       " 2938 │ Tairawhiti           2018  AllSex  Leukaemia                         0\n",
       " 2939 │ West Coast           2019  AllSex  Brain                             0\n",
       " 2940 │ Tairawhiti           2020  AllSex  Leukaemia                         0 ⋯\n",
       "\u001b[36m                                                 2 columns and 2919 rows omitted\u001b[0m"
      ]
     },
     "execution_count": 4,
     "metadata": {},
     "output_type": "execute_result"
    }
   ],
   "source": [
    "\n",
    "# Filter incidence based on sex\n",
    "mortality_cancer_sex = mortality[mortality[:,:DHB] .== \"All New Zealand\", :]\n",
    "grouped_mortality = groupby(mortality_cancer_sex, [:year, :cancer, :sex])\n",
    "rate_mean = combine(grouped_mortality, :mortality_rate => (x -> mean(skipmissing(x))) => :rate_mean)\n",
    "mortality_wider = unstack(rate_mean, :sex, :rate_mean)\n",
    "mortality_sex_filtered = filter(row -> !(ismissing(row[:Male]) && ismissing(row[:Female])), mortality_wider)\n",
    "\n",
    "group = map(eachrow(mortality_sex_filtered)) do row\n",
    "    if ismissing(row[:Male]) && !ismissing(row[:Female])\n",
    "        \"Female\"\n",
    "    elseif !ismissing(row[:Male]) && ismissing(row[:Female])\n",
    "        \"Male\"\n",
    "    else\n",
    "        \"AllSex\"\n",
    "    end\n",
    "end\n",
    "\n",
    "mortality_sex_filtered[!, :group]= group\n",
    "select!(mortality_sex_filtered, :cancer, :group)\n",
    "unique!(mortality_sex_filtered)\n",
    "\n",
    "mortality_sex_filtered = innerjoin(mortality, mortality_sex_filtered, on = [:cancer, :sex => :group])\n",
    "mortality_sex_filtered[:,:group] = mortality_sex_filtered.sex\n",
    "\n",
    "mortality_sex_filtered"
   ]
  },
  {
   "cell_type": "code",
   "execution_count": 5,
   "id": "c49975df-102c-4483-bc7d-bc79dede3640",
   "metadata": {
    "tags": []
   },
   "outputs": [
    {
     "data": {
      "text/plain": [
       "\"data/clean/mortality_sexfiltered.csv\""
      ]
     },
     "execution_count": 5,
     "metadata": {},
     "output_type": "execute_result"
    }
   ],
   "source": [
    "# Write clean data to csv files\n",
    "CSV.write(\"data/clean/incidence.csv\", incidence)\n",
    "CSV.write(\"data/clean/incidence_sexfiltered.csv\", incidence_sex_filtered)\n",
    "CSV.write(\"data/clean/mortality.csv\", mortality)\n",
    "CSV.write(\"data/clean/mortality_sexfiltered.csv\", mortality_sex_filtered)"
   ]
  }
 ],
 "metadata": {
  "kernelspec": {
   "display_name": "Julia 1.9.2",
   "language": "julia",
   "name": "julia-1.9"
  },
  "language_info": {
   "file_extension": ".jl",
   "mimetype": "application/julia",
   "name": "julia",
   "version": "1.9.2"
  }
 },
 "nbformat": 4,
 "nbformat_minor": 5
}
