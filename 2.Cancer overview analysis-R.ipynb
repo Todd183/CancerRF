{
 "cells": [
  {
   "cell_type": "markdown",
   "id": "46864fd8-0108-4a10-a5b6-7fd210f3331c",
   "metadata": {},
   "source": [
    "# 2. Cancer overview"
   ]
  },
  {
   "cell_type": "markdown",
   "id": "4a574a68-5f91-4390-a263-1e30d88159a0",
   "metadata": {},
   "source": [
    "There are five aspects for cancer overview:\n",
    "\n",
    "2. Cancer Over <br>\n",
    "    2.1. Age distribution <br>\n",
    "    2.2. Gender variance of cancer types <br>\n",
    "    2.3. Regional distribution <br>\n",
    "    2.4. Most common region for each cancer <br>\n",
    "    2.5. Time changes <br>\n"
   ]
  },
  {
   "cell_type": "code",
   "execution_count": 2,
   "id": "06ec6188-cae3-48c9-ad4b-97f34cabf09b",
   "metadata": {
    "tags": []
   },
   "outputs": [
    {
     "name": "stderr",
     "output_type": "stream",
     "text": [
      "Warning message:\n",
      "\"package 'tidyverse' was built under R version 4.2.3\"\n",
      "Warning message:\n",
      "\"package 'ggplot2' was built under R version 4.2.3\"\n",
      "Warning message:\n",
      "\"package 'tibble' was built under R version 4.2.3\"\n",
      "Warning message:\n",
      "\"package 'tidyr' was built under R version 4.2.3\"\n",
      "Warning message:\n",
      "\"package 'readr' was built under R version 4.2.3\"\n",
      "Warning message:\n",
      "\"package 'purrr' was built under R version 4.2.3\"\n",
      "Warning message:\n",
      "\"package 'dplyr' was built under R version 4.2.3\"\n",
      "Warning message:\n",
      "\"package 'stringr' was built under R version 4.2.3\"\n",
      "Warning message:\n",
      "\"package 'forcats' was built under R version 4.2.3\"\n",
      "Warning message:\n",
      "\"package 'lubridate' was built under R version 4.2.3\"\n",
      "── \u001b[1mAttaching core tidyverse packages\u001b[22m ──────────────────────── tidyverse 2.0.0 ──\n",
      "\u001b[32m✔\u001b[39m \u001b[34mdplyr    \u001b[39m 1.1.2     \u001b[32m✔\u001b[39m \u001b[34mreadr    \u001b[39m 2.1.4\n",
      "\u001b[32m✔\u001b[39m \u001b[34mforcats  \u001b[39m 1.0.0     \u001b[32m✔\u001b[39m \u001b[34mstringr  \u001b[39m 1.5.0\n",
      "\u001b[32m✔\u001b[39m \u001b[34mggplot2  \u001b[39m 3.4.3     \u001b[32m✔\u001b[39m \u001b[34mtibble   \u001b[39m 3.2.1\n",
      "\u001b[32m✔\u001b[39m \u001b[34mlubridate\u001b[39m 1.9.2     \u001b[32m✔\u001b[39m \u001b[34mtidyr    \u001b[39m 1.3.0\n",
      "\u001b[32m✔\u001b[39m \u001b[34mpurrr    \u001b[39m 1.0.1     \n",
      "── \u001b[1mConflicts\u001b[22m ────────────────────────────────────────── tidyverse_conflicts() ──\n",
      "\u001b[31m✖\u001b[39m \u001b[34mdplyr\u001b[39m::\u001b[32mfilter()\u001b[39m masks \u001b[34mstats\u001b[39m::filter()\n",
      "\u001b[31m✖\u001b[39m \u001b[34mdplyr\u001b[39m::\u001b[32mlag()\u001b[39m    masks \u001b[34mstats\u001b[39m::lag()\n",
      "\u001b[36mℹ\u001b[39m Use the conflicted package (\u001b[3m\u001b[34m<http://conflicted.r-lib.org/>\u001b[39m\u001b[23m) to force all conflicts to become errors\n",
      "Warning message:\n",
      "\"package 'ggsci' was built under R version 4.2.3\"\n",
      "Warning message:\n",
      "\"package 'ggpubr' was built under R version 4.2.3\"\n",
      "Warning message:\n",
      "\"package 'ggrepel' was built under R version 4.2.3\"\n",
      "Warning message:\n",
      "\"package 'sf' was built under R version 4.2.3\"\n",
      "Linking to GEOS 3.9.3, GDAL 3.5.2, PROJ 8.2.1; sf_use_s2() is TRUE\n",
      "\n",
      "Warning message:\n",
      "\"package 'flextable' was built under R version 4.2.3\"\n",
      "\n",
      "Attaching package: 'flextable'\n",
      "\n",
      "\n",
      "The following objects are masked from 'package:ggpubr':\n",
      "\n",
      "    border, font, rotate\n",
      "\n",
      "\n",
      "The following object is masked from 'package:purrr':\n",
      "\n",
      "    compose\n",
      "\n",
      "\n",
      "Warning message in file(filename, \"r\", encoding = encoding):\n",
      "\"cannot open file 'tools.R': No such file or directory\"\n"
     ]
    },
    {
     "ename": "ERROR",
     "evalue": "Error in file(filename, \"r\", encoding = encoding): cannot open the connection\n",
     "output_type": "error",
     "traceback": [
      "Error in file(filename, \"r\", encoding = encoding): cannot open the connection\nTraceback:\n",
      "1. source(\"tools.R\")",
      "2. file(filename, \"r\", encoding = encoding)"
     ]
    }
   ],
   "source": [
    "# Load necessary packages for data manipulation, visualization, and processing\n",
    "library(tidyverse)\n",
    "library(ggsci)\n",
    "library(ggpubr)\n",
    "library(ggrepel)\n",
    "library(sf)\n",
    "library(flextable)\n",
    "source('tools.R')"
   ]
  },
  {
   "cell_type": "code",
   "execution_count": null,
   "id": "13eac704-f08d-48d3-a063-6bfbe08d11f5",
   "metadata": {},
   "outputs": [],
   "source": [
    "# Read the CSV file containing cancer deaths by age data\n",
    "age <- read_csv('data/cancer-deaths-by-age.csv')"
   ]
  },
  {
   "cell_type": "markdown",
   "id": "90ee18c1-ee5c-410e-8225-c2aed103a2b8",
   "metadata": {},
   "source": [
    "## 2.1 Age distribution"
   ]
  },
  {
   "cell_type": "code",
   "execution_count": null,
   "id": "891741ed-215f-4231-b921-f9b710f25204",
   "metadata": {},
   "outputs": [],
   "source": [
    "# Read the CSV file containing cancer incidence data\n",
    "incidence <- read_csv(\"data/clean/incidence.csv\")"
   ]
  },
  {
   "cell_type": "code",
   "execution_count": null,
   "id": "1103127b-793f-41cd-8f53-d668ac4285d4",
   "metadata": {},
   "outputs": [],
   "source": [
    "# Process the age data:\n",
    "# - Replace 'S' in the Rate column with '0' and convert it to numeric\n",
    "# - Categorize age groups into 'child' and 'adult'\n",
    "# - Group by 'population' and 'Year' columns\n",
    "# - Sum up the number of incidences for each group\n",
    "# - Reshape the data to have a wider format\n",
    "# - Display the data in a table format\n",
    "\n",
    "age %>% \n",
    "  mutate(Rate = as.numeric(str_replace(Rate,\"S\",\"0\"))) %>%\n",
    "  # filter(Number > 5) %>%\n",
    "  mutate(population = ifelse(agegrpid <= 3, \"child\",'adult')) %>%\n",
    "  group_by(population,Year) %>%\n",
    "  summarize(`Incidence number` = as.integer(sum(Number))) %>%\n",
    "  pivot_wider(names_from = Year,values_from = `Incidence number`) %>%\n",
    "  rempsyc::nice_table(title=\"Table 1: Number of New Registered Cancers\")"
   ]
  },
  {
   "cell_type": "markdown",
   "id": "8a2178df-5deb-4bdd-bb69-9ca9a0f1d7f6",
   "metadata": {},
   "source": [
    "## 2.2 Gender variance of cancer types"
   ]
  },
  {
   "cell_type": "code",
   "execution_count": null,
   "id": "afe8f8b8-7ba6-49dd-8295-363578e4209e",
   "metadata": {},
   "outputs": [],
   "source": [
    "incidence <- read_csv(\"data/clean/incidence.csv\")\n",
    "mortality <- read_csv('data/clean/mortality.csv')\n",
    "\n",
    "# Use the custom function 'draw_sex_variance' to create plots showing gender variance for incidence and mortality\n",
    "g1 =  draw_sex_variance(incidence,type=\"Incidence\",fulltitle=FALSE)\n",
    "g2 = draw_sex_variance(mortality,type=\"Mortality\",fulltitle=FALSE)\n",
    "\n",
    "# Arrange the two plots side by side\n",
    "ggarrange(g1,g2)\n"
   ]
  },
  {
   "cell_type": "markdown",
   "id": "ce6df6d6-f42a-479e-a36b-6e2fa0903d32",
   "metadata": {},
   "source": [
    "## 2.3 Regional distribution"
   ]
  },
  {
   "cell_type": "code",
   "execution_count": null,
   "id": "824aa2c1-2d6c-4352-a6a0-d028f425af45",
   "metadata": {},
   "outputs": [],
   "source": [
    "# Read incidence and mortality data filtered by sex\n",
    "incidence_sexfiltered <- read_csv(\"data/clean/incidence_sexfiltered.csv\")\n",
    "mortality_sexfiltered <- read_csv('data/clean/mortality_sexfiltered.csv')\n",
    "\n",
    "# Use the custom function 'regional_heatmap' to create heatmaps for incidence and mortality\n",
    "ht_incidence = regional_heatmap(incidence_sexfiltered,type='Incidence')\n",
    "draw(ht_incidence, heatmap_legend_side = \"right\",annotation_legend_side=\"right\",legend_grouping = \"original\")\n",
    "\n",
    "ht_mortality = regional_heatmap(mortality_sexfiltered,type='mortality')\n",
    "draw(ht_mortality, heatmap_legend_side = \"right\",annotation_legend_side=\"right\",legend_grouping = \"original\")"
   ]
  },
  {
   "cell_type": "markdown",
   "id": "88cae097-607f-45ca-bbd0-6c1ef08ede5f",
   "metadata": {},
   "source": [
    "## 2.4 Most common region for each cancer"
   ]
  },
  {
   "cell_type": "code",
   "execution_count": null,
   "id": "b21f8243-239b-457b-9182-236c46f9f2ca",
   "metadata": {},
   "outputs": [],
   "source": [
    "# Read the map data of New Zealand District Health Board boundaries\n",
    "library(sf)\n",
    "incidence_sexfiltered <- read_csv(\"data/clean/incidence_sexfiltered.csv\")\n",
    "mortality_sexfiltered <- read_csv('data/clean/mortality_sexfiltered.csv')\n",
    "DHB_map <- st_read(\"data/NZ_District_Health_Board_boundaries_-_generalised.kml\", quiet=TRUE)\n",
    "\n",
    "# Use the custom function 'cancer_region_map' to create maps showing the most common regions for each cancer type for incidence and mortality\n",
    "ggmap_incidence <- cancer_region_map(data = incidence_sexfiltered , type =\"Incidence\",map = DHB_map)\n",
    "ggmap_incidence\n",
    "\n",
    "ggmap_incidence <- cancer_region_map(data = mortality_sexfiltered , type =\"Mortality\",map = DHB_map)\n",
    "ggmap_incidence"
   ]
  },
  {
   "cell_type": "markdown",
   "id": "e693636b-9a9e-4a87-ba6d-60367b0aac63",
   "metadata": {},
   "source": [
    "## 2.5 Time changes"
   ]
  },
  {
   "cell_type": "code",
   "execution_count": null,
   "id": "28e3b81d-7d28-4414-9726-4a6d4b7b14c7",
   "metadata": {},
   "outputs": [],
   "source": [
    "# Read incidence and mortality data filtered by sex\n",
    "incidence_sexfiltered <- read_csv(\"data/clean/incidence_sexfiltered.csv\")\n",
    "mortality_sexfiltered <- read_csv('data/clean/mortality_sexfiltered.csv')\n",
    "\n",
    "# Use the custom function 'time_change_plot' to create a plot showing the change in cancer rates over time\n",
    "# The label number is calculated as the difference between the mean rates of 2016-2020 and 2011-2015\n",
    "gg_time <- time_change_plot(data = incidence_sexfiltered, type = \"Incidence\",label.size = 2.5)\n",
    "gg_time "
   ]
  }
 ],
 "metadata": {
  "kernelspec": {
   "display_name": "R",
   "language": "R",
   "name": "ir"
  },
  "language_info": {
   "codemirror_mode": "r",
   "file_extension": ".r",
   "mimetype": "text/x-r-source",
   "name": "R",
   "pygments_lexer": "r",
   "version": "4.2.2"
  }
 },
 "nbformat": 4,
 "nbformat_minor": 5
}
